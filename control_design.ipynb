{
 "cells": [
  {
   "cell_type": "code",
   "execution_count": 1,
   "metadata": {},
   "outputs": [],
   "source": [
    "import autograd.numpy as np\n",
    "import matplotlib.pyplot as plt\n",
    "import control as ct\n",
    "from scipy.integrate import solve_ivp\n",
    "import scipy as sp\n",
    "\n",
    "from HJK.dynamics.systems import simple2Dsystem\n",
    "#from HJK.basis.monomials import monomials\n",
    "from HJK.optimizers.optimizers import cvx\n",
    "from HJK.eigfun.eigfun import monomial_eigfun, eval_monomial_eigfun\n",
    "from HJK.controllers.LQR import u_LQR\n",
    "from HJK.controllers.koopman import u_HJK1\n",
    "\n",
    "from autograd import jacobian\n",
    "import math"
   ]
  },
  {
   "cell_type": "markdown",
   "metadata": {},
   "source": [
    "## Define the system dynamics"
   ]
  },
  {
   "cell_type": "markdown",
   "metadata": {},
   "source": [
    "### Plot free response of the system"
   ]
  },
  {
   "cell_type": "code",
   "execution_count": 2,
   "metadata": {},
   "outputs": [],
   "source": [
    "t_span = [0, 10]\n",
    "x0 = np.array([1, 1])\n",
    "t = np.linspace(0, 10, 10000)\n",
    "\n",
    "integrator_keywords = {}\n",
    "integrator_keywords['rtol'] = 1e-12\n",
    "integrator_keywords['method'] = 'LSODA'\n",
    "integrator_keywords['atol'] = 1e-12\n",
    "\n",
    "params = {\"mu\":0.5, \"lam\":-10.0}"
   ]
  },
  {
   "cell_type": "code",
   "execution_count": 3,
   "metadata": {},
   "outputs": [
    {
     "data": {
      "image/png": "[encoded data removed]",
      "text/plain": [
       "<Figure size 432x288 with 1 Axes>"
      ]
     },
     "metadata": {
      "needs_background": "light"
     },
     "output_type": "display_data"
    }
   ],
   "source": [
    "u = 0\n",
    "sol = solve_ivp(simple2Dsystem, t_span, x0, t_eval=t, args = (u, params))\n",
    "t = sol.t\n",
    "y = sol.y\n",
    "\n",
    "# Plot the response\n",
    "plt.figure(1)\n",
    "plt.plot(t, y[0])\n",
    "plt.plot(t, y[1])\n",
    "plt.legend(['x1', 'x2'])\n",
    "plt.show(block=False)"
   ]
  },
  {
   "cell_type": "markdown",
   "metadata": {},
   "source": [
    "### Linearize the system"
   ]
  },
  {
   "cell_type": "code",
   "execution_count": 4,
   "metadata": {},
   "outputs": [],
   "source": [
    "A = np.array([[params.get('mu'), 0],[0, params.get('lam')]])\n",
    "B = np.array([[1],[1]])"
   ]
  },
  {
   "cell_type": "markdown",
   "metadata": {},
   "source": [
    "## Collect random datapoints from a domain"
   ]
  },
  {
   "cell_type": "code",
   "execution_count": 5,
   "metadata": {},
   "outputs": [],
   "source": [
    "domain = 5\n",
    "dim = 2\n",
    "numIC = 1000\n",
    "np.random.seed(1)\n",
    "X = np.random.uniform(low=-domain, high=domain, size=(dim,numIC)).astype(float) "
   ]
  },
  {
   "cell_type": "markdown",
   "metadata": {},
   "source": [
    "## Generate basis functions\n",
    "Monomials from d3s github"
   ]
  },
  {
   "cell_type": "code",
   "execution_count": 6,
   "metadata": {},
   "outputs": [
    {
     "name": "stdout",
     "output_type": "stream",
     "text": [
      "1.000001 + 1.00000 x_1 + 1.00000 x_2 + 1.00000 x_1^2 + 1.00000 x_1 x_2 + 1.00000 x_2^2\n"
     ]
    }
   ],
   "source": [
    "degree = 2\n",
    "d3s_monomials = monomials(degree)\n",
    "d3s_monomials.display(np.array([1.0, 1.0, 1.0, 1.0, 1.0, 1.0]),2)"
   ]
  },
  {
   "cell_type": "code",
   "execution_count": 7,
   "metadata": {},
   "outputs": [],
   "source": [
    "Psi = d3s_monomials(X)\n",
    "DPsi = d3s_monomials.diff(X)\n",
    "\n",
    "# remove 1 and linear parts\n",
    "Psi = Psi[dim+1:,:]\n",
    "DPsi = DPsi[dim+1:,:]\n",
    "\n",
    "# get length of Psi to determine coefficient U dimensions\n",
    "Nbs = np.shape(Psi)[0]"
   ]
  },
  {
   "cell_type": "markdown",
   "metadata": {},
   "source": [
    "## Setup Optimization problem"
   ]
  },
  {
   "cell_type": "markdown",
   "metadata": {},
   "source": [
    "### Using CVXpy"
   ]
  },
  {
   "cell_type": "code",
   "execution_count": 8,
   "metadata": {},
   "outputs": [
    {
     "name": "stdout",
     "output_type": "stream",
     "text": [
      "Found a feasible x in R^2 that has 1 nonzeros.\n",
      "optimal objective value: 4.455324267447211e-12\n",
      "[[ 0.00000000e+00  0.00000000e+00  0.00000000e+00]\n",
      " [-9.09090909e-01 -3.12765624e-19  2.01586570e-18]]\n"
     ]
    }
   ],
   "source": [
    "U = cvx(simple2Dsystem, params, A, X, Psi , DPsi)"
   ]
  },
  {
   "cell_type": "code",
   "execution_count": 9,
   "metadata": {},
   "outputs": [],
   "source": [
    "Phi, DPhi = eval_monomial_eigfun(X, A, U, Psi, DPsi)"
   ]
  },
  {
   "cell_type": "markdown",
   "metadata": {},
   "source": [
    "# LQR Control"
   ]
  },
  {
   "cell_type": "code",
   "execution_count": 10,
   "metadata": {},
   "outputs": [
    {
     "data": {
      "image/png": "[encoded data removed]",
      "text/plain": [
       "<Figure size 432x288 with 1 Axes>"
      ]
     },
     "metadata": {
      "needs_background": "light"
     },
     "output_type": "display_data"
    }
   ],
   "source": [
    "x0 = np.array([1, 1])\n",
    "Q = np.identity(dim)\n",
    "R = 1.0\n",
    "params = {\"mu\":0.5, \"lam\":-10.0,\"u\":\"LQR\"}\n",
    "sol = solve_ivp(simple2Dsystem, t_span, x0, t_eval=t, args = (u_LQR, params))\n",
    "t = sol.t\n",
    "y = sol.y\n",
    "\n",
    "# Plot the response\n",
    "plt.figure(1)\n",
    "plt.plot(t, y[0])\n",
    "plt.plot(t, y[1])\n",
    "plt.legend(['x1', 'x2'])\n",
    "plt.show(block=False)"
   ]
  },
  {
   "cell_type": "markdown",
   "metadata": {},
   "source": [
    "# HJK Procedure 1"
   ]
  },
  {
   "cell_type": "code",
   "execution_count": 11,
   "metadata": {},
   "outputs": [
    {
     "name": "stderr",
     "output_type": "stream",
     "text": [
      "c:\\Users\\Sri\\anaconda3\\envs\\pytorch\\lib\\site-packages\\slycot\\synthesis.py:329: ComplexWarning: Casting complex values to real discards the imaginary part\n",
      "  A_inv, X, rcond, wr, wi, S, U, info = _wrapper.sb02md(\n"
     ]
    },
    {
     "data": {
      "image/png": "[encoded data removed]",
      "text/plain": [
       "<Figure size 432x288 with 1 Axes>"
      ]
     },
     "metadata": {
      "needs_background": "light"
     },
     "output_type": "display_data"
    }
   ],
   "source": [
    "x0 = np.array([1, 1])\n",
    "params = {\"mu\":0.5, \"lam\":-10.0,\"u\":\"HJK1\", \"U\":U, \"degree\":degree, \"Q\":Q, \"R\":R,}\n",
    "sol = solve_ivp(simple2Dsystem, t_span, x0, t_eval=t, args = (u_HJK1, params))\n",
    "t = sol.t\n",
    "y = sol.y\n",
    "\n",
    "# Plot the response\n",
    "plt.figure(1)\n",
    "plt.plot(t, y[0])\n",
    "plt.plot(t, y[1])\n",
    "plt.legend(['x1', 'x2'])\n",
    "plt.show(block=False)"
   ]
  },
  {
   "cell_type": "markdown",
   "metadata": {},
   "source": [
    "# HJK Procedure 2"
   ]
  },
  {
   "cell_type": "code",
   "execution_count": 43,
   "metadata": {},
   "outputs": [],
   "source": [
    "def eigfun(x):\n",
    "    # To evaluate eigenfunctions at each points x in R^n\n",
    "    x = np.array([x]).T # add extra dimension for matmul\n",
    "    dim = np.shape(x)[0]\n",
    "    monomial_basis = monomials(degree, x)\n",
    "    Psi = monomial_basis(x)\n",
    "    DPsi = monomial_basis.diff(x)\n",
    "    # remove 1 and linear parts\n",
    "    Psi = Psi[dim+1:,:]\n",
    "    DPsi = DPsi[dim+1:,:]\n",
    "\n",
    "    W = sp.linalg.eig(A, left=True, right=False)[1]\n",
    "    Phi = W.T @ x + W.T @ (U @ Psi)\n",
    "    DPhi = []\n",
    "    numIC = np.shape(x)[1]\n",
    "    for i in range(numIC):\n",
    "        DPhi.append(W.T + W.T @ U @ DPsi[:,:,i])\n",
    "    DPhi = np.reshape(DPhi, (np.shape(x)[0],-1))\n",
    "\n",
    "    return Phi\n"
   ]
  },
  {
   "cell_type": "code",
   "execution_count": 2,
   "metadata": {},
   "outputs": [],
   "source": [
    "def monomials(x):\n",
    "    p = 2\n",
    "    '''\n",
    "    Evaluate all monomials of order up to p for all data points in x.\n",
    "    '''\n",
    "    [d, m] = x.shape # d = dimension of state space, m = number of test points\n",
    "    c = allMonomialPowers(d, p) # matrix containing all powers for the monomials\n",
    "    n = c.shape[1] # number of monomials\n",
    "    y = np.ones([n, m])\n",
    "    for i in range(n):\n",
    "        for j in range(d):\n",
    "            y[i, :] = y[i, :] * np.power(x[j, :], c[j, i])\n",
    "    return y\n",
    "\n",
    "def allMonomialPowers(d, p):\n",
    "    '''\n",
    "    All monomials in d dimensions of order up to p.\n",
    "    '''\n",
    "    # Example: For d = 3 and p = 2, we obtain\n",
    "    # [[ 0  1  0  0  2  1  1  0  0  0]\n",
    "    #  [ 0  0  1  0  0  1  0  2  1  0]\n",
    "    #  [ 0  0  0  1  0  0  1  0  1  2]]\n",
    "    n = nchoosek(p + d, p) # number of monomials\n",
    "    x = np.zeros(d) # vector containing powers for the monomials, initially zero\n",
    "    c = np.zeros([d, n]) # matrix containing all powers for the monomials\n",
    "    for i in range(1, n):\n",
    "        c[:, i] = nextMonomialPowers(x)\n",
    "    c = np.flipud(c) # flip array in the up/down direction\n",
    "    return c\n",
    "\n",
    "def nchoosek(n, k):\n",
    "    '''\n",
    "    Computes binomial coefficients.\n",
    "    '''\n",
    "    return math.factorial(n)//math.factorial(k)//math.factorial(n-k) # integer division operator\n",
    "\n",
    "\n",
    "def nextMonomialPowers(x):\n",
    "    '''\n",
    "    Returns powers for the next monomial. Implementation based on John Burkardt's MONOMIAL toolbox, see\n",
    "    http://people.sc.fsu.edu/~jburkardt/m_src/monomial/monomial.html.\n",
    "    '''\n",
    "    m = len(x)\n",
    "    j = 0\n",
    "    for i in range(1, m): # find the first index j > 1 s.t. x[j] > 0\n",
    "        if x[i] > 0:\n",
    "            j = i\n",
    "            break\n",
    "    if j == 0:\n",
    "        t = x[0]\n",
    "        x[0] = 0\n",
    "        x[m - 1] = t + 1\n",
    "    elif j < m - 1:\n",
    "        x[j] = x[j] - 1\n",
    "        t = x[0] + 1\n",
    "        x[0] = 0\n",
    "        x[j-1] = x[j-1] + t\n",
    "    elif j == m - 1:\n",
    "        t = x[0]\n",
    "        x[0] = 0\n",
    "        x[j - 1] = t + 1\n",
    "        x[j] = x[j] - 1\n",
    "    return x"
   ]
  },
  {
   "cell_type": "code",
   "execution_count": 44,
   "metadata": {},
   "outputs": [],
   "source": [
    "def numerical_jacobian(f, A, U, degree, xs, dx=1e-8):\n",
    "  \"\"\"\n",
    "      f is a function that accepts input of shape (n_points, input_dim)\n",
    "      and outputs (n_points, output_dim)\n",
    "\n",
    "      return the jacobian as (n_points, output_dim, input_dim)\n",
    "  \"\"\"\n",
    "  ys = f(xs, A, U, degree)\n",
    "  print(np.shape(ys))\n",
    "  x_dim = xs.shape[0]\n",
    "  print(x_dim)\n",
    "  y_dim = ys.shape[0]\n",
    "  print(x_dim)\n",
    "  \n",
    "  jac = np.empty((y_dim, x_dim, xs.shape[1]))\n",
    "  print(np.shape(jac))\n",
    "\n",
    "  for i in range(x_dim):\n",
    "    x_try = xs + dx * e(x_dim, i + 1)\n",
    "    jac[:, :, i] = (f(x_try, A, U, degree) - ys) / dx\n",
    "  \n",
    "  return jac\n",
    "\n",
    "def e(n, i):\n",
    "  ret = np.zeros(n)\n",
    "  ret[i - 1] = 1.0\n",
    "  return ret"
   ]
  },
  {
   "cell_type": "code",
   "execution_count": 55,
   "metadata": {},
   "outputs": [
    {
     "data": {
      "text/plain": [
       "array([ 45., 180.])"
      ]
     },
     "execution_count": 55,
     "metadata": {},
     "output_type": "execute_result"
    }
   ],
   "source": [
    "import autograd.numpy as np\n",
    "from autograd import grad, jacobian\n",
    "\n",
    "x = np.array([1,2], dtype=float)\n",
    "\n",
    "def cost(x):\n",
    "    val = 0  \n",
    "    return forloopfun(val, x)\n",
    "\n",
    "def forloopfun(val,x ):\n",
    "    for i in range(10):\n",
    "        val += i*x[0] + i*x[1]**2\n",
    "    return val\n",
    "\n",
    "\n",
    "jacobian_cost = jacobian(cost)\n",
    "\n",
    "jacobian_cost(x)"
   ]
  },
  {
   "cell_type": "code",
   "execution_count": 52,
   "metadata": {},
   "outputs": [
    {
     "ename": "ValueError",
     "evalue": "setting an array element with a sequence.",
     "output_type": "error",
     "traceback": [
      "\u001b[1;31m---------------------------------------------------------------------------\u001b[0m",
      "\u001b[1;31mTypeError\u001b[0m                                 Traceback (most recent call last)",
      "\u001b[1;31mTypeError\u001b[0m: float() argument must be a string or a number, not 'ArrayBox'",
      "\nThe above exception was the direct cause of the following exception:\n",
      "\u001b[1;31mValueError\u001b[0m                                Traceback (most recent call last)",
      "\u001b[1;32mc:\\Users\\Sri\\Downloads\\Hamilton_Jacobi_Koopman\\Hamilton-Jacobi-Koopman\\control_design.ipynb Cell 26'\u001b[0m in \u001b[0;36m<cell line: 5>\u001b[1;34m()\u001b[0m\n\u001b[0;32m      <a href='vscode-notebook-cell:/c%3A/Users/Sri/Downloads/Hamilton_Jacobi_Koopman/Hamilton-Jacobi-Koopman/control_design.ipynb#ch0000028?line=2'>3</a>\u001b[0m Psi \u001b[39m=\u001b[39m monomials(x)\n\u001b[0;32m      <a href='vscode-notebook-cell:/c%3A/Users/Sri/Downloads/Hamilton_Jacobi_Koopman/Hamilton-Jacobi-Koopman/control_design.ipynb#ch0000028?line=3'>4</a>\u001b[0m DPsi \u001b[39m=\u001b[39m jacobian(monomials)\n\u001b[1;32m----> <a href='vscode-notebook-cell:/c%3A/Users/Sri/Downloads/Hamilton_Jacobi_Koopman/Hamilton-Jacobi-Koopman/control_design.ipynb#ch0000028?line=4'>5</a>\u001b[0m DPsi(x)\n",
      "File \u001b[1;32mc:\\Users\\Sri\\anaconda3\\envs\\pytorch\\lib\\site-packages\\autograd\\wrap_util.py:20\u001b[0m, in \u001b[0;36munary_to_nary.<locals>.nary_operator.<locals>.nary_f\u001b[1;34m(*args, **kwargs)\u001b[0m\n\u001b[0;32m     <a href='file:///c%3A/Users/Sri/anaconda3/envs/pytorch/lib/site-packages/autograd/wrap_util.py?line=17'>18</a>\u001b[0m \u001b[39melse\u001b[39;00m:\n\u001b[0;32m     <a href='file:///c%3A/Users/Sri/anaconda3/envs/pytorch/lib/site-packages/autograd/wrap_util.py?line=18'>19</a>\u001b[0m     x \u001b[39m=\u001b[39m \u001b[39mtuple\u001b[39m(args[i] \u001b[39mfor\u001b[39;00m i \u001b[39min\u001b[39;00m argnum)\n\u001b[1;32m---> <a href='file:///c%3A/Users/Sri/anaconda3/envs/pytorch/lib/site-packages/autograd/wrap_util.py?line=19'>20</a>\u001b[0m \u001b[39mreturn\u001b[39;00m unary_operator(unary_f, x, \u001b[39m*\u001b[39mnary_op_args, \u001b[39m*\u001b[39m\u001b[39m*\u001b[39mnary_op_kwargs)\n",
      "File \u001b[1;32mc:\\Users\\Sri\\anaconda3\\envs\\pytorch\\lib\\site-packages\\autograd\\differential_operators.py:57\u001b[0m, in \u001b[0;36mjacobian\u001b[1;34m(fun, x)\u001b[0m\n\u001b[0;32m     <a href='file:///c%3A/Users/Sri/anaconda3/envs/pytorch/lib/site-packages/autograd/differential_operators.py?line=46'>47</a>\u001b[0m \u001b[39m@unary_to_nary\u001b[39m\n\u001b[0;32m     <a href='file:///c%3A/Users/Sri/anaconda3/envs/pytorch/lib/site-packages/autograd/differential_operators.py?line=47'>48</a>\u001b[0m \u001b[39mdef\u001b[39;00m \u001b[39mjacobian\u001b[39m(fun, x):\n\u001b[0;32m     <a href='file:///c%3A/Users/Sri/anaconda3/envs/pytorch/lib/site-packages/autograd/differential_operators.py?line=48'>49</a>\u001b[0m     \u001b[39m\"\"\"\u001b[39;00m\n\u001b[0;32m     <a href='file:///c%3A/Users/Sri/anaconda3/envs/pytorch/lib/site-packages/autograd/differential_operators.py?line=49'>50</a>\u001b[0m \u001b[39m    Returns a function which computes the Jacobian of `fun` with respect to\u001b[39;00m\n\u001b[0;32m     <a href='file:///c%3A/Users/Sri/anaconda3/envs/pytorch/lib/site-packages/autograd/differential_operators.py?line=50'>51</a>\u001b[0m \u001b[39m    positional argument number `argnum`, which must be a scalar or array. Unlike\u001b[39;00m\n\u001b[1;32m   (...)\u001b[0m\n\u001b[0;32m     <a href='file:///c%3A/Users/Sri/anaconda3/envs/pytorch/lib/site-packages/autograd/differential_operators.py?line=54'>55</a>\u001b[0m \u001b[39m    (out1, out2, ...) then the Jacobian has shape (out1, out2, ..., in1, in2, ...).\u001b[39;00m\n\u001b[0;32m     <a href='file:///c%3A/Users/Sri/anaconda3/envs/pytorch/lib/site-packages/autograd/differential_operators.py?line=55'>56</a>\u001b[0m \u001b[39m    \"\"\"\u001b[39;00m\n\u001b[1;32m---> <a href='file:///c%3A/Users/Sri/anaconda3/envs/pytorch/lib/site-packages/autograd/differential_operators.py?line=56'>57</a>\u001b[0m     vjp, ans \u001b[39m=\u001b[39m _make_vjp(fun, x)\n\u001b[0;32m     <a href='file:///c%3A/Users/Sri/anaconda3/envs/pytorch/lib/site-packages/autograd/differential_operators.py?line=57'>58</a>\u001b[0m     ans_vspace \u001b[39m=\u001b[39m vspace(ans)\n\u001b[0;32m     <a href='file:///c%3A/Users/Sri/anaconda3/envs/pytorch/lib/site-packages/autograd/differential_operators.py?line=58'>59</a>\u001b[0m     jacobian_shape \u001b[39m=\u001b[39m ans_vspace\u001b[39m.\u001b[39mshape \u001b[39m+\u001b[39m vspace(x)\u001b[39m.\u001b[39mshape\n",
      "File \u001b[1;32mc:\\Users\\Sri\\anaconda3\\envs\\pytorch\\lib\\site-packages\\autograd\\core.py:10\u001b[0m, in \u001b[0;36mmake_vjp\u001b[1;34m(fun, x)\u001b[0m\n\u001b[0;32m      <a href='file:///c%3A/Users/Sri/anaconda3/envs/pytorch/lib/site-packages/autograd/core.py?line=7'>8</a>\u001b[0m \u001b[39mdef\u001b[39;00m \u001b[39mmake_vjp\u001b[39m(fun, x):\n\u001b[0;32m      <a href='file:///c%3A/Users/Sri/anaconda3/envs/pytorch/lib/site-packages/autograd/core.py?line=8'>9</a>\u001b[0m     start_node \u001b[39m=\u001b[39m VJPNode\u001b[39m.\u001b[39mnew_root()\n\u001b[1;32m---> <a href='file:///c%3A/Users/Sri/anaconda3/envs/pytorch/lib/site-packages/autograd/core.py?line=9'>10</a>\u001b[0m     end_value, end_node \u001b[39m=\u001b[39m  trace(start_node, fun, x)\n\u001b[0;32m     <a href='file:///c%3A/Users/Sri/anaconda3/envs/pytorch/lib/site-packages/autograd/core.py?line=10'>11</a>\u001b[0m     \u001b[39mif\u001b[39;00m end_node \u001b[39mis\u001b[39;00m \u001b[39mNone\u001b[39;00m:\n\u001b[0;32m     <a href='file:///c%3A/Users/Sri/anaconda3/envs/pytorch/lib/site-packages/autograd/core.py?line=11'>12</a>\u001b[0m         \u001b[39mdef\u001b[39;00m \u001b[39mvjp\u001b[39m(g): \u001b[39mreturn\u001b[39;00m vspace(x)\u001b[39m.\u001b[39mzeros()\n",
      "File \u001b[1;32mc:\\Users\\Sri\\anaconda3\\envs\\pytorch\\lib\\site-packages\\autograd\\tracer.py:10\u001b[0m, in \u001b[0;36mtrace\u001b[1;34m(start_node, fun, x)\u001b[0m\n\u001b[0;32m      <a href='file:///c%3A/Users/Sri/anaconda3/envs/pytorch/lib/site-packages/autograd/tracer.py?line=7'>8</a>\u001b[0m \u001b[39mwith\u001b[39;00m trace_stack\u001b[39m.\u001b[39mnew_trace() \u001b[39mas\u001b[39;00m t:\n\u001b[0;32m      <a href='file:///c%3A/Users/Sri/anaconda3/envs/pytorch/lib/site-packages/autograd/tracer.py?line=8'>9</a>\u001b[0m     start_box \u001b[39m=\u001b[39m new_box(x, t, start_node)\n\u001b[1;32m---> <a href='file:///c%3A/Users/Sri/anaconda3/envs/pytorch/lib/site-packages/autograd/tracer.py?line=9'>10</a>\u001b[0m     end_box \u001b[39m=\u001b[39m fun(start_box)\n\u001b[0;32m     <a href='file:///c%3A/Users/Sri/anaconda3/envs/pytorch/lib/site-packages/autograd/tracer.py?line=10'>11</a>\u001b[0m     \u001b[39mif\u001b[39;00m isbox(end_box) \u001b[39mand\u001b[39;00m end_box\u001b[39m.\u001b[39m_trace \u001b[39m==\u001b[39m start_box\u001b[39m.\u001b[39m_trace:\n\u001b[0;32m     <a href='file:///c%3A/Users/Sri/anaconda3/envs/pytorch/lib/site-packages/autograd/tracer.py?line=11'>12</a>\u001b[0m         \u001b[39mreturn\u001b[39;00m end_box\u001b[39m.\u001b[39m_value, end_box\u001b[39m.\u001b[39m_node\n",
      "File \u001b[1;32mc:\\Users\\Sri\\anaconda3\\envs\\pytorch\\lib\\site-packages\\autograd\\wrap_util.py:15\u001b[0m, in \u001b[0;36munary_to_nary.<locals>.nary_operator.<locals>.nary_f.<locals>.unary_f\u001b[1;34m(x)\u001b[0m\n\u001b[0;32m     <a href='file:///c%3A/Users/Sri/anaconda3/envs/pytorch/lib/site-packages/autograd/wrap_util.py?line=12'>13</a>\u001b[0m \u001b[39melse\u001b[39;00m:\n\u001b[0;32m     <a href='file:///c%3A/Users/Sri/anaconda3/envs/pytorch/lib/site-packages/autograd/wrap_util.py?line=13'>14</a>\u001b[0m     subargs \u001b[39m=\u001b[39m subvals(args, \u001b[39mzip\u001b[39m(argnum, x))\n\u001b[1;32m---> <a href='file:///c%3A/Users/Sri/anaconda3/envs/pytorch/lib/site-packages/autograd/wrap_util.py?line=14'>15</a>\u001b[0m \u001b[39mreturn\u001b[39;00m fun(\u001b[39m*\u001b[39msubargs, \u001b[39m*\u001b[39m\u001b[39m*\u001b[39mkwargs)\n",
      "\u001b[1;32mc:\\Users\\Sri\\Downloads\\Hamilton_Jacobi_Koopman\\Hamilton-Jacobi-Koopman\\control_design.ipynb Cell 23'\u001b[0m in \u001b[0;36mmonomials\u001b[1;34m(x)\u001b[0m\n\u001b[0;32m     <a href='vscode-notebook-cell:/c%3A/Users/Sri/Downloads/Hamilton_Jacobi_Koopman/Hamilton-Jacobi-Koopman/control_design.ipynb#ch0000030?line=9'>10</a>\u001b[0m \u001b[39mfor\u001b[39;00m i \u001b[39min\u001b[39;00m \u001b[39mrange\u001b[39m(n):\n\u001b[0;32m     <a href='vscode-notebook-cell:/c%3A/Users/Sri/Downloads/Hamilton_Jacobi_Koopman/Hamilton-Jacobi-Koopman/control_design.ipynb#ch0000030?line=10'>11</a>\u001b[0m     \u001b[39mfor\u001b[39;00m j \u001b[39min\u001b[39;00m \u001b[39mrange\u001b[39m(d):\n\u001b[1;32m---> <a href='vscode-notebook-cell:/c%3A/Users/Sri/Downloads/Hamilton_Jacobi_Koopman/Hamilton-Jacobi-Koopman/control_design.ipynb#ch0000030?line=11'>12</a>\u001b[0m         y[i, :] \u001b[39m=\u001b[39m y[i, :] \u001b[39m*\u001b[39m np\u001b[39m.\u001b[39mpower(x[j, :], c[j, i])\n\u001b[0;32m     <a href='vscode-notebook-cell:/c%3A/Users/Sri/Downloads/Hamilton_Jacobi_Koopman/Hamilton-Jacobi-Koopman/control_design.ipynb#ch0000030?line=12'>13</a>\u001b[0m \u001b[39mreturn\u001b[39;00m y\n",
      "\u001b[1;31mValueError\u001b[0m: setting an array element with a sequence."
     ]
    }
   ],
   "source": [
    "x = np.array([[1, 2]], dtype=float)\n",
    "x=x.T\n",
    "Psi = monomials(x)\n",
    "DPsi = jacobian(monomials)\n",
    "DPsi(x)"
   ]
  }
 ],
 "metadata": {
  "interpreter": {
   "hash": "6fe3d905ccf8bdc800e55c935b31d20e755709c44b40c53509f03e1be84fb235"
  },
  "kernelspec": {
   "display_name": "Python 3.9.12 ('pytorch')",
   "language": "python",
   "name": "python3"
  },
  "language_info": {
   "codemirror_mode": {
    "name": "ipython",
    "version": 3
   },
   "file_extension": ".py",
   "mimetype": "text/x-python",
   "name": "python",
   "nbconvert_exporter": "python",
   "pygments_lexer": "ipython3",
   "version": "3.9.12"
  },
  "orig_nbformat": 4
 },
 "nbformat": 4,
 "nbformat_minor": 2
}

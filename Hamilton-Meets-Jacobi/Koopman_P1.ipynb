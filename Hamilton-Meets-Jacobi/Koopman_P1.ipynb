{
 "cells": [
  {
   "cell_type": "code",
   "execution_count": 131,
   "metadata": {},
   "outputs": [],
   "source": [
    "import numpy as np\n",
    "import matplotlib.pyplot as plt\n",
    "import numpy as np\n",
    "from scipy.integrate import solve_ivp\n",
    "from scipy.integrate import odeint\n",
    "\n",
    "from dynamics.systems import simple2D"
   ]
  },
  {
   "cell_type": "code",
   "execution_count": 132,
   "metadata": {},
   "outputs": [],
   "source": [
    "# Simple 2D system\n",
    "def simple2Dsystem(x, t, u=[1.0, 1.0], mu=-1.0, lam=-1.0):\n",
    "    return [mu * x[0] + u[0], lam * (x[1] - x[0] ** 2) + u[1]]"
   ]
  },
  {
   "cell_type": "code",
   "execution_count": 135,
   "metadata": {},
   "outputs": [
    {
     "data": {
      "text/plain": [
       "<matplotlib.legend.Legend at 0x1d252959df0>"
      ]
     },
     "execution_count": 135,
     "metadata": {},
     "output_type": "execute_result"
    },
    {
     "data": {
      "image/png": "[encoded data removed]",
      "text/plain": [
       "<Figure size 432x288 with 1 Axes>"
      ]
     },
     "metadata": {
      "needs_background": "light"
     },
     "output_type": "display_data"
    }
   ],
   "source": [
    "def u_fun():\n",
    "    return [1.0, 1.0] # no control\n",
    "\n",
    "# Generate measurement data\n",
    "dt = .0001\n",
    "\n",
    "t_train = np.arange(0, 10, dt)\n",
    "x0_train = [1.0, 1.0]\n",
    "t_train_span = (t_train[0], t_train[-1])\n",
    "\n",
    "u =u_fun()\n",
    "\n",
    "x_train = odeint(simple2Dsystem, x0_train, t_train, args=(u, -10.0, -10.0))\n",
    "\n",
    "plt.plot(t_train, x_train)\n",
    "plt.legend([\"x1\", \"x2\"])"
   ]
  },
  {
   "cell_type": "code",
   "execution_count": 136,
   "metadata": {},
   "outputs": [
    {
     "ename": "TypeError",
     "evalue": "simple2D() takes from 2 to 3 positional arguments but 5 were given",
     "output_type": "error",
     "traceback": [
      "\u001b[1;31m---------------------------------------------------------------------------\u001b[0m",
      "\u001b[1;31mTypeError\u001b[0m                                 Traceback (most recent call last)",
      "\u001b[1;32mc:\\Users\\sriramk\\Downloads\\Hamilton_Jacobi_Koopman\\Hamilton-Jacobi-Koopman\\Hamilton-Meets-Jacobi\\Koopman_P1.ipynb Cell 4'\u001b[0m in \u001b[0;36m<cell line: 1>\u001b[1;34m()\u001b[0m\n\u001b[1;32m----> <a href='vscode-notebook-cell:/c%3A/Users/sriramk/Downloads/Hamilton_Jacobi_Koopman/Hamilton-Jacobi-Koopman/Hamilton-Meets-Jacobi/Koopman_P1.ipynb#ch0000007?line=0'>1</a>\u001b[0m x_train \u001b[39m=\u001b[39m odeint(simple2D, x0_train, t_train, args\u001b[39m=\u001b[39;49m(u, \u001b[39m-\u001b[39;49m\u001b[39m10.0\u001b[39;49m, \u001b[39m-\u001b[39;49m\u001b[39m10.0\u001b[39;49m))\n\u001b[0;32m      <a href='vscode-notebook-cell:/c%3A/Users/sriramk/Downloads/Hamilton_Jacobi_Koopman/Hamilton-Jacobi-Koopman/Hamilton-Meets-Jacobi/Koopman_P1.ipynb#ch0000007?line=2'>3</a>\u001b[0m plt\u001b[39m.\u001b[39mplot(t_train, x_train)\n\u001b[0;32m      <a href='vscode-notebook-cell:/c%3A/Users/sriramk/Downloads/Hamilton_Jacobi_Koopman/Hamilton-Jacobi-Koopman/Hamilton-Meets-Jacobi/Koopman_P1.ipynb#ch0000007?line=3'>4</a>\u001b[0m plt\u001b[39m.\u001b[39mlegend([\u001b[39m\"\u001b[39m\u001b[39mx1\u001b[39m\u001b[39m\"\u001b[39m, \u001b[39m\"\u001b[39m\u001b[39mx2\u001b[39m\u001b[39m\"\u001b[39m])\n",
      "File \u001b[1;32mc:\\Users\\sriramk\\.conda\\envs\\HJ_Koopman\\lib\\site-packages\\scipy\\integrate\\_odepack_py.py:241\u001b[0m, in \u001b[0;36modeint\u001b[1;34m(func, y0, t, args, Dfun, col_deriv, full_output, ml, mu, rtol, atol, tcrit, h0, hmax, hmin, ixpr, mxstep, mxhnil, mxordn, mxords, printmessg, tfirst)\u001b[0m\n\u001b[0;32m    <a href='file:///c%3A/Users/sriramk/.conda/envs/HJ_Koopman/lib/site-packages/scipy/integrate/_odepack_py.py?line=238'>239</a>\u001b[0m t \u001b[39m=\u001b[39m copy(t)\n\u001b[0;32m    <a href='file:///c%3A/Users/sriramk/.conda/envs/HJ_Koopman/lib/site-packages/scipy/integrate/_odepack_py.py?line=239'>240</a>\u001b[0m y0 \u001b[39m=\u001b[39m copy(y0)\n\u001b[1;32m--> <a href='file:///c%3A/Users/sriramk/.conda/envs/HJ_Koopman/lib/site-packages/scipy/integrate/_odepack_py.py?line=240'>241</a>\u001b[0m output \u001b[39m=\u001b[39m _odepack\u001b[39m.\u001b[39;49modeint(func, y0, t, args, Dfun, col_deriv, ml, mu,\n\u001b[0;32m    <a href='file:///c%3A/Users/sriramk/.conda/envs/HJ_Koopman/lib/site-packages/scipy/integrate/_odepack_py.py?line=241'>242</a>\u001b[0m                          full_output, rtol, atol, tcrit, h0, hmax, hmin,\n\u001b[0;32m    <a href='file:///c%3A/Users/sriramk/.conda/envs/HJ_Koopman/lib/site-packages/scipy/integrate/_odepack_py.py?line=242'>243</a>\u001b[0m                          ixpr, mxstep, mxhnil, mxordn, mxords,\n\u001b[0;32m    <a href='file:///c%3A/Users/sriramk/.conda/envs/HJ_Koopman/lib/site-packages/scipy/integrate/_odepack_py.py?line=243'>244</a>\u001b[0m                          \u001b[39mint\u001b[39;49m(\u001b[39mbool\u001b[39;49m(tfirst)))\n\u001b[0;32m    <a href='file:///c%3A/Users/sriramk/.conda/envs/HJ_Koopman/lib/site-packages/scipy/integrate/_odepack_py.py?line=244'>245</a>\u001b[0m \u001b[39mif\u001b[39;00m output[\u001b[39m-\u001b[39m\u001b[39m1\u001b[39m] \u001b[39m<\u001b[39m \u001b[39m0\u001b[39m:\n\u001b[0;32m    <a href='file:///c%3A/Users/sriramk/.conda/envs/HJ_Koopman/lib/site-packages/scipy/integrate/_odepack_py.py?line=245'>246</a>\u001b[0m     warning_msg \u001b[39m=\u001b[39m _msgs[output[\u001b[39m-\u001b[39m\u001b[39m1\u001b[39m]] \u001b[39m+\u001b[39m \u001b[39m\"\u001b[39m\u001b[39m Run with full_output = 1 to get quantitative information.\u001b[39m\u001b[39m\"\u001b[39m\n",
      "\u001b[1;31mTypeError\u001b[0m: simple2D() takes from 2 to 3 positional arguments but 5 were given"
     ]
    }
   ],
   "source": [
    "x_train = odeint(simple2D, x0_train, t_train, args=(u, -10.0, -10.0))\n",
    "\n",
    "plt.plot(t_train, x_train)\n",
    "plt.legend([\"x1\", \"x2\"])"
   ]
  }
 ],
 "metadata": {
  "interpreter": {
   "hash": "5080e62e581194305bea1ab6c0205c7f26f064615acb161a66176eb2704813ae"
  },
  "kernelspec": {
   "display_name": "Python 3.9.12 ('HJ_Koopman')",
   "language": "python",
   "name": "python3"
  },
  "language_info": {
   "name": "python",
   "version": "3.9.12"
  },
  "orig_nbformat": 4
 },
 "nbformat": 4,
 "nbformat_minor": 2
}

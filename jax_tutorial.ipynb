{
 "cells": [
  {
   "cell_type": "code",
   "execution_count": 11,
   "metadata": {},
   "outputs": [],
   "source": [
    "import numpy as np\n",
    "import matplotlib.pyplot as plt\n",
    "import control as ct\n",
    "from scipy.integrate import solve_ivp\n",
    "import scipy as sp\n",
    "\n",
    "from HJK.dynamics.systems import simple2Dsystem\n",
    "from HJK.basis.monomials import monomials\n",
    "from HJK.optimizers.optimizers import cvx, casadi\n",
    "from HJK.eigfun.eigfun import monomial_eigfun"
   ]
  },
  {
   "cell_type": "markdown",
   "metadata": {},
   "source": [
    "## Define the system dynamics"
   ]
  },
  {
   "cell_type": "markdown",
   "metadata": {},
   "source": [
    "### Plot free response of the system"
   ]
  },
  {
   "cell_type": "code",
   "execution_count": 12,
   "metadata": {},
   "outputs": [],
   "source": [
    "t_span = [0, 10]\n",
    "x0 = np.array([1, 1])\n",
    "t = np.linspace(0, 10, 1000)\n",
    "\n",
    "integrator_keywords = {}\n",
    "integrator_keywords['rtol'] = 1e-12\n",
    "integrator_keywords['method'] = 'LSODA'\n",
    "integrator_keywords['atol'] = 1e-12\n",
    "\n",
    "params = {\"mu\":0.5, \"lam\":-10.0}"
   ]
  },
  {
   "cell_type": "code",
   "execution_count": 13,
   "metadata": {},
   "outputs": [
    {
     "data": {
      "image/png": "[encoded data removed]",
      "text/plain": [
       "<Figure size 432x288 with 1 Axes>"
      ]
     },
     "metadata": {
      "needs_background": "light"
     },
     "output_type": "display_data"
    }
   ],
   "source": [
    "u = 0\n",
    "sol = solve_ivp(simple2Dsystem, t_span, x0, t_eval=t, args = (u, params))\n",
    "t = sol.t\n",
    "y = sol.y\n",
    "\n",
    "# Plot the response\n",
    "plt.figure(1)\n",
    "plt.plot(t, y[0])\n",
    "plt.plot(t, y[1])\n",
    "plt.legend(['x1', 'x2'])\n",
    "plt.show(block=False)"
   ]
  },
  {
   "cell_type": "markdown",
   "metadata": {},
   "source": [
    "### Linearize the system"
   ]
  },
  {
   "cell_type": "code",
   "execution_count": 14,
   "metadata": {},
   "outputs": [],
   "source": [
    "A = np.array([[params.get('mu'), 0],[0, params.get('lam')]])\n",
    "B = np.array([[1],[1]])"
   ]
  },
  {
   "cell_type": "markdown",
   "metadata": {},
   "source": [
    "## Collect random datapoints from a domain"
   ]
  },
  {
   "cell_type": "code",
   "execution_count": 15,
   "metadata": {},
   "outputs": [],
   "source": [
    "domain = 5\n",
    "dim = 2\n",
    "numIC = 1000\n",
    "np.random.seed(1)\n",
    "X = np.random.uniform(low=-domain, high=domain, size=(dim,numIC)).astype(float) "
   ]
  },
  {
   "cell_type": "markdown",
   "metadata": {},
   "source": [
    "## Generate basis functions\n",
    "Monomials from d3s github"
   ]
  },
  {
   "cell_type": "code",
   "execution_count": 16,
   "metadata": {},
   "outputs": [
    {
     "name": "stdout",
     "output_type": "stream",
     "text": [
      "1.000001 + 1.00000 x_1 + 1.00000 x_2 + 1.00000 x_1^2 + 1.00000 x_1 x_2 + 1.00000 x_2^2\n"
     ]
    }
   ],
   "source": [
    "degree = 2\n",
    "d3s_monomials = monomials(degree)\n",
    "d3s_monomials.display(np.array([1.0, 1.0, 1.0, 1.0, 1.0, 1.0]),2)"
   ]
  },
  {
   "cell_type": "code",
   "execution_count": 17,
   "metadata": {},
   "outputs": [],
   "source": [
    "Psi = d3s_monomials(X)\n",
    "DPsi = d3s_monomials.diff(X)\n",
    "\n",
    "# remove 1 and linear parts\n",
    "Psi = Psi[dim+1:,:]\n",
    "DPsi = DPsi[dim+1:,:]\n",
    "\n",
    "# get length of Psi to determine coefficient U dimensions\n",
    "Nbs = np.shape(Psi)[0]"
   ]
  },
  {
   "cell_type": "markdown",
   "metadata": {},
   "source": [
    "## Setup Optimization problem"
   ]
  },
  {
   "cell_type": "markdown",
   "metadata": {},
   "source": [
    "### Using CVXpy"
   ]
  },
  {
   "cell_type": "code",
   "execution_count": 18,
   "metadata": {},
   "outputs": [
    {
     "name": "stdout",
     "output_type": "stream",
     "text": [
      "Found a feasible x in R^2 that has 1 nonzeros.\n",
      "optimal objective value: 4.455324267447211e-12\n",
      "[[ 0.00000000e+00  0.00000000e+00  0.00000000e+00]\n",
      " [-9.09090909e-01 -3.12765624e-19  2.01586570e-18]]\n"
     ]
    }
   ],
   "source": [
    "U = cvx(simple2Dsystem, params, A, X, Psi , DPsi)"
   ]
  },
  {
   "cell_type": "code",
   "execution_count": 19,
   "metadata": {},
   "outputs": [],
   "source": [
    "Phi, DPhi = monomial_eigfun(X, A, U, degree)"
   ]
  },
  {
   "cell_type": "markdown",
   "metadata": {},
   "source": [
    "### Using CasADi"
   ]
  },
  {
   "cell_type": "code",
   "execution_count": 20,
   "metadata": {},
   "outputs": [
    {
     "ename": "RuntimeError",
     "evalue": "D:\\bld\\casadi_1647512547064\\work\\casadi\\core\\function_internal.cpp:145: Error calling IpoptInterface::init for 'F':\nD:\\bld\\casadi_1647512547064\\work\\casadi\\core\\nlpsol.cpp:398: Assertion \"sparsity_out_.at(NLPSOL_X).is_dense() && sparsity_out_.at(NLPSOL_X).is_vector()\" failed:\nExpected a dense vector 'x', but got 2x3,0nz.",
     "output_type": "error",
     "traceback": [
      "\u001b[1;31m---------------------------------------------------------------------------\u001b[0m",
      "\u001b[1;31mRuntimeError\u001b[0m                              Traceback (most recent call last)",
      "\u001b[1;32mc:\\Users\\Sri\\Downloads\\Hamilton_Jacobi_Koopman\\Hamilton-Jacobi-Koopman\\optimization.ipynb Cell 18'\u001b[0m in \u001b[0;36m<cell line: 1>\u001b[1;34m()\u001b[0m\n\u001b[1;32m----> <a href='vscode-notebook-cell:/c%3A/Users/Sri/Downloads/Hamilton_Jacobi_Koopman/Hamilton-Jacobi-Koopman/optimization.ipynb#ch0000017?line=0'>1</a>\u001b[0m U \u001b[39m=\u001b[39m casadi(dim, Nbs, A, X, simple2Dsystem, params, Psi , DPsi)\n",
      "File \u001b[1;32mc:\\Users\\Sri\\Downloads\\Hamilton_Jacobi_Koopman\\Hamilton-Jacobi-Koopman\\HJK\\optimizers\\optimizers.py:82\u001b[0m, in \u001b[0;36mcasadi\u001b[1;34m(dim, Nbs, A, X, sys, params, Psi, DPsi)\u001b[0m\n\u001b[0;32m     <a href='file:///c%3A/Users/Sri/Downloads/Hamilton_Jacobi_Koopman/Hamilton-Jacobi-Koopman/HJK/optimizers/optimizers.py?line=78'>79</a>\u001b[0m nlp[\u001b[39m'\u001b[39m\u001b[39mf\u001b[39m\u001b[39m'\u001b[39m] \u001b[39m=\u001b[39m f            \u001b[39m# objective\u001b[39;00m\n\u001b[0;32m     <a href='file:///c%3A/Users/Sri/Downloads/Hamilton_Jacobi_Koopman/Hamilton-Jacobi-Koopman/HJK/optimizers/optimizers.py?line=80'>81</a>\u001b[0m \u001b[39m# Create solver instance\u001b[39;00m\n\u001b[1;32m---> <a href='file:///c%3A/Users/Sri/Downloads/Hamilton_Jacobi_Koopman/Hamilton-Jacobi-Koopman/HJK/optimizers/optimizers.py?line=81'>82</a>\u001b[0m F \u001b[39m=\u001b[39m nlpsol(\u001b[39m'\u001b[39;49m\u001b[39mF\u001b[39;49m\u001b[39m'\u001b[39;49m,\u001b[39m'\u001b[39;49m\u001b[39mipopt\u001b[39;49m\u001b[39m'\u001b[39;49m,nlp);\n\u001b[0;32m     <a href='file:///c%3A/Users/Sri/Downloads/Hamilton_Jacobi_Koopman/Hamilton-Jacobi-Koopman/HJK/optimizers/optimizers.py?line=83'>84</a>\u001b[0m \u001b[39m# Solve the problem using a guess\u001b[39;00m\n\u001b[0;32m     <a href='file:///c%3A/Users/Sri/Downloads/Hamilton_Jacobi_Koopman/Hamilton-Jacobi-Koopman/HJK/optimizers/optimizers.py?line=84'>85</a>\u001b[0m F(x0\u001b[39m=\u001b[39m[\u001b[39m2.5\u001b[39m,\u001b[39m3.0\u001b[39m],ubg\u001b[39m=\u001b[39m\u001b[39m0\u001b[39m,lbg\u001b[39m=\u001b[39m\u001b[39m0\u001b[39m)\n",
      "File \u001b[1;32mc:\\Users\\Sri\\anaconda3\\envs\\pytorch\\lib\\site-packages\\casadi\\casadi.py:9966\u001b[0m, in \u001b[0;36mnlpsol\u001b[1;34m(*args)\u001b[0m\n\u001b[0;32m   <a href='file:///c%3A/Users/Sri/anaconda3/envs/pytorch/lib/site-packages/casadi/casadi.py?line=9957'>9958</a>\u001b[0m \u001b[39mdef\u001b[39;00m \u001b[39mnlpsol\u001b[39m(\u001b[39m*\u001b[39margs) \u001b[39m-\u001b[39m\u001b[39m>\u001b[39m \u001b[39m\"\u001b[39m\u001b[39mcasadi::Function\u001b[39m\u001b[39m\"\u001b[39m:\n\u001b[0;32m   <a href='file:///c%3A/Users/Sri/anaconda3/envs/pytorch/lib/site-packages/casadi/casadi.py?line=9958'>9959</a>\u001b[0m     \u001b[39mr\u001b[39m\u001b[39m\"\"\"\u001b[39;00m\n\u001b[0;32m   <a href='file:///c%3A/Users/Sri/anaconda3/envs/pytorch/lib/site-packages/casadi/casadi.py?line=9959'>9960</a>\u001b[0m \u001b[39m    nlpsol(std::string const & name, std::string const & solver, casadi::SXDict const & nlp, casadi::Dict const & opts=casadi::Dict()) -> Function\u001b[39;00m\n\u001b[0;32m   <a href='file:///c%3A/Users/Sri/anaconda3/envs/pytorch/lib/site-packages/casadi/casadi.py?line=9960'>9961</a>\u001b[0m \u001b[39m    nlpsol(std::string const & name, std::string const & solver, casadi::MXDict const & nlp, casadi::Dict const & opts=casadi::Dict()) -> Function\u001b[39;00m\n\u001b[1;32m   (...)\u001b[0m\n\u001b[0;32m   <a href='file:///c%3A/Users/Sri/anaconda3/envs/pytorch/lib/site-packages/casadi/casadi.py?line=9963'>9964</a>\u001b[0m \u001b[39m    nlpsol(std::string const & name, std::string const & solver, NlpBuilder nl, casadi::Dict const & opts=casadi::Dict()) -> Function\u001b[39;00m\n\u001b[0;32m   <a href='file:///c%3A/Users/Sri/anaconda3/envs/pytorch/lib/site-packages/casadi/casadi.py?line=9964'>9965</a>\u001b[0m \u001b[39m    \"\"\"\u001b[39;00m\n\u001b[1;32m-> <a href='file:///c%3A/Users/Sri/anaconda3/envs/pytorch/lib/site-packages/casadi/casadi.py?line=9965'>9966</a>\u001b[0m     \u001b[39mreturn\u001b[39;00m _casadi\u001b[39m.\u001b[39;49mnlpsol(\u001b[39m*\u001b[39;49margs)\n",
      "\u001b[1;31mRuntimeError\u001b[0m: D:\\bld\\casadi_1647512547064\\work\\casadi\\core\\function_internal.cpp:145: Error calling IpoptInterface::init for 'F':\nD:\\bld\\casadi_1647512547064\\work\\casadi\\core\\nlpsol.cpp:398: Assertion \"sparsity_out_.at(NLPSOL_X).is_dense() && sparsity_out_.at(NLPSOL_X).is_vector()\" failed:\nExpected a dense vector 'x', but got 2x3,0nz."
     ]
    }
   ],
   "source": [
    "U = casadi(dim, Nbs, A, X, simple2Dsystem, params, Psi , DPsi)"
   ]
  }
 ],
 "metadata": {
  "interpreter": {
   "hash": "6fe3d905ccf8bdc800e55c935b31d20e755709c44b40c53509f03e1be84fb235"
  },
  "kernelspec": {
   "display_name": "Python 3.9.12 ('pytorch')",
   "language": "python",
   "name": "python3"
  },
  "language_info": {
   "codemirror_mode": {
    "name": "ipython",
    "version": 3
   },
   "file_extension": ".py",
   "mimetype": "text/x-python",
   "name": "python",
   "nbconvert_exporter": "python",
   "pygments_lexer": "ipython3",
   "version": "3.9.12"
  },
  "orig_nbformat": 4
 },
 "nbformat": 4,
 "nbformat_minor": 2
}

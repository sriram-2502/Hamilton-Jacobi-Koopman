{
 "cells": [
  {
   "cell_type": "code",
   "execution_count": 119,
   "metadata": {},
   "outputs": [],
   "source": [
    "import numpy as np\n",
    "import matplotlib.pyplot as plt\n",
    "import control as ct\n",
    "\n",
    "from HJK.dynamics.systems import simple2Dsystem\n",
    "from HJK.basis import monomials\n",
    "\n",
    "import cvxpy as cp"
   ]
  },
  {
   "cell_type": "markdown",
   "metadata": {},
   "source": [
    "## Define the system dynamics"
   ]
  },
  {
   "cell_type": "code",
   "execution_count": 120,
   "metadata": {},
   "outputs": [],
   "source": [
    "io_simple2D = ct.NonlinearIOSystem(\n",
    "    simple2Dsystem, None, inputs=('u'), outputs=('x1', 'x2'),\n",
    "    states=('x1', 'x2'), name='simple2D')"
   ]
  },
  {
   "cell_type": "markdown",
   "metadata": {},
   "source": [
    "### Plot free response of the system"
   ]
  },
  {
   "cell_type": "code",
   "execution_count": 121,
   "metadata": {},
   "outputs": [
    {
     "data": {
      "image/png": "[encoded data removed]",
      "text/plain": [
       "<Figure size 432x288 with 1 Axes>"
      ]
     },
     "metadata": {
      "needs_background": "light"
     },
     "output_type": "display_data"
    }
   ],
   "source": [
    "X0 = [1, 1]            \n",
    "T = np.linspace(0, 10, 1000)   # Simulation 70 years of time\n",
    "# Simulate the system\n",
    "u = 0\n",
    "params = {\"mu\":-0.5, \"lam\":-10.0}\n",
    "t, y = ct.input_output_response(io_simple2D, T, u, X0, params)\n",
    "\n",
    "# Plot the response\n",
    "plt.figure(1)\n",
    "plt.plot(t, y[0])\n",
    "plt.plot(t, y[1])\n",
    "plt.legend(['x1', 'x2'])\n",
    "plt.show(block=False)"
   ]
  },
  {
   "cell_type": "markdown",
   "metadata": {},
   "source": [
    "### Linearize the system"
   ]
  },
  {
   "cell_type": "code",
   "execution_count": 122,
   "metadata": {},
   "outputs": [],
   "source": [
    "eqpt = ct.find_eqpt(io_simple2D, X0, 0)\n",
    "xeq = eqpt[0]                         # choose the nonzero equilibrium point\n",
    "lin_simple2D = ct.linearize(io_simple2D, xeq, 0)\n",
    "A = lin_simple2D.A\n",
    "B = lin_simple2D.B"
   ]
  },
  {
   "cell_type": "code",
   "execution_count": 123,
   "metadata": {},
   "outputs": [
    {
     "data": {
      "text/plain": [
       "array([[ -0.5,   0. ],\n",
       "       [  0. , -10. ]])"
      ]
     },
     "execution_count": 123,
     "metadata": {},
     "output_type": "execute_result"
    }
   ],
   "source": [
    "A=np.array([[-0.5, 0],[0,-10]])\n",
    "A"
   ]
  },
  {
   "cell_type": "markdown",
   "metadata": {},
   "source": [
    "## Collect random datapoints from a domain"
   ]
  },
  {
   "cell_type": "code",
   "execution_count": 124,
   "metadata": {},
   "outputs": [],
   "source": [
    "domain = 5\n",
    "dim = 2\n",
    "numIC = 1000\n",
    "np.random.seed(1)\n",
    "X = np.random.uniform(low=-domain, high=domain, size=(dim,numIC)).astype(float) \n",
    "# X = np.array([[-1, -0.9, -0.9],[-1, 0.8, 1]])"
   ]
  },
  {
   "cell_type": "markdown",
   "metadata": {},
   "source": [
    "## Generate basis functions\n",
    "Monomials from d3s github"
   ]
  },
  {
   "cell_type": "code",
   "execution_count": 125,
   "metadata": {},
   "outputs": [
    {
     "name": "stdout",
     "output_type": "stream",
     "text": [
      "1.000001 + 1.00000 x_1 + 1.00000 x_2 + 1.00000 x_1^2 + 1.00000 x_1 x_2 + 1.00000 x_2^2\n"
     ]
    }
   ],
   "source": [
    "degree = 2\n",
    "d3s_monomials = monomials.monomials(degree)\n",
    "d3s_monomials.display(np.array([1.0, 1.0, 1.0, 1.0, 1, 1]),2)"
   ]
  },
  {
   "cell_type": "code",
   "execution_count": 126,
   "metadata": {},
   "outputs": [],
   "source": [
    "Psi = d3s_monomials(X)\n",
    "DPsi = d3s_monomials.diff(X)\n",
    "\n",
    "# remove 1 and linear parts\n",
    "Psi = Psi[dim+1:,:]\n",
    "DPsi = DPsi[dim+1:,:]"
   ]
  },
  {
   "cell_type": "markdown",
   "metadata": {},
   "source": [
    "## Setup Optimization problem"
   ]
  },
  {
   "cell_type": "code",
   "execution_count": 127,
   "metadata": {},
   "outputs": [],
   "source": [
    "# get xdot values\n",
    "t = 0\n",
    "u = 0\n",
    "F_z = simple2Dsystem(0,X,0,params)\n",
    "\n",
    "# build gradient matrix grad_Psi * f(x)\n",
    "Df_z = []\n",
    "for i in range(numIC):\n",
    "    Df_z.append(DPsi[:,:,i] @ F_z[:,i])\n",
    "Df_z = np.array(Df_z).T\n",
    "\n",
    "# get linear part\n",
    "E = A\n",
    "Ez = E @ X\n",
    "\n",
    "# get observables and size\n",
    "G_z = Psi\n",
    "# get length of Psi to determine coefficient U dimensions\n",
    "Nbs = np.shape(G_z)[0]"
   ]
  },
  {
   "cell_type": "code",
   "execution_count": 128,
   "metadata": {},
   "outputs": [
    {
     "name": "stdout",
     "output_type": "stream",
     "text": [
      "===============================================================================\n",
      "                                     CVXPY                                     \n",
      "                                     v1.2.0                                    \n",
      "===============================================================================\n",
      "(CVXPY) May 22 06:52:00 PM: Your problem has 6 variables, 0 constraints, and 0 parameters.\n",
      "(CVXPY) May 22 06:52:00 PM: It is compliant with the following grammars: DCP, DQCP\n",
      "(CVXPY) May 22 06:52:00 PM: (If you need to solve this problem multiple times, but with different data, consider using parameters.)\n",
      "(CVXPY) May 22 06:52:00 PM: CVXPY will first compile your problem; then, it will invoke a numerical solver to obtain a solution.\n",
      "-------------------------------------------------------------------------------\n",
      "                                  Compilation                                  \n",
      "-------------------------------------------------------------------------------\n",
      "(CVXPY) May 22 06:52:00 PM: Compiling problem (target solver=SCS).\n",
      "(CVXPY) May 22 06:52:00 PM: Reduction chain: Dcp2Cone -> CvxAttr2Constr -> ConeMatrixStuffing -> SCS\n",
      "(CVXPY) May 22 06:52:00 PM: Applying reduction Dcp2Cone\n",
      "(CVXPY) May 22 06:52:00 PM: Applying reduction CvxAttr2Constr\n",
      "(CVXPY) May 22 06:52:00 PM: Applying reduction ConeMatrixStuffing\n",
      "(CVXPY) May 22 06:52:00 PM: Applying reduction SCS\n",
      "(CVXPY) May 22 06:52:00 PM: Finished problem compilation (took 8.009e-03 seconds).\n",
      "-------------------------------------------------------------------------------\n",
      "                                Numerical solver                               \n",
      "-------------------------------------------------------------------------------\n",
      "(CVXPY) May 22 06:52:00 PM: Invoking solver SCS  to obtain a solution.\n",
      "------------------------------------------------------------------\n",
      "\t       SCS v3.2.0 - Splitting Conic Solver\n",
      "\t(c) Brendan O'Donoghue, Stanford University, 2012\n",
      "------------------------------------------------------------------\n",
      "problem:  variables n: 7, constraints m: 2001\n",
      "cones: \t  q: soc vars: 2001, qsize: 1\n",
      "settings: eps_abs: 1.0e-05, eps_rel: 1.0e-05, eps_infeas: 1.0e-07\n",
      "\t  alpha: 1.50, scale: 1.00e-01, adaptive_scale: 1\n",
      "\t  max_iters: 100000, normalize: 1, rho_x: 1.00e-06\n",
      "\t  acceleration_lookback: 10, acceleration_interval: 10\n",
      "lin-sys:  sparse-direct\n",
      "\t  nnz(A): 6001, nnz(P): 0\n",
      "------------------------------------------------------------------\n",
      " iter | pri res | dua res |   gap   |   obj   |  scale  | time (s)\n",
      "------------------------------------------------------------------\n",
      "     0| 2.47e+04  1.00e+00  2.47e+04 -1.23e+04  1.00e-01  2.79e-03 \n",
      "    50| 3.11e-07  1.75e-13  3.11e-07 -1.56e-07  1.00e-01  5.38e-03 \n",
      "------------------------------------------------------------------\n",
      "status:  solved\n",
      "timings: total: 9.15e-03s = setup: 3.74e-03s + solve: 5.41e-03s\n",
      "\t lin-sys: 1.68e-03s, cones: 3.40e-04s, accel: 5.42e-05s\n",
      "------------------------------------------------------------------\n",
      "objective = -0.000000\n",
      "------------------------------------------------------------------\n",
      "-------------------------------------------------------------------------------\n",
      "                                    Summary                                    \n",
      "-------------------------------------------------------------------------------\n",
      "(CVXPY) May 22 06:52:00 PM: Problem status: optimal\n",
      "(CVXPY) May 22 06:52:00 PM: Optimal value: 2.161e-12\n",
      "(CVXPY) May 22 06:52:00 PM: Compilation took 8.009e-03 seconds\n",
      "(CVXPY) May 22 06:52:00 PM: Solver (including time spent in interface) took 1.599e-02 seconds\n"
     ]
    }
   ],
   "source": [
    "U = cp.Variable(shape=(dim, Nbs))\n",
    "objective = cp.Minimize((cp.norm(U @ Df_z + F_z - A @ U @ G_z - Ez, 'fro')))\n",
    "constraints  = []\n",
    "prob = cp.Problem(objective, constraints)\n",
    "\n",
    "# The optimal objective value is returned by `prob.solve()`.\n",
    "result = prob.solve(solver='SCS', verbose=True)\n",
    "# The optimal value for x is stored in `x.value`.\n",
    "# print(U.value)"
   ]
  },
  {
   "cell_type": "code",
   "execution_count": 129,
   "metadata": {},
   "outputs": [
    {
     "data": {
      "text/plain": [
       "array([[ 0.00000000e+00,  0.00000000e+00,  0.00000000e+00],\n",
       "       [-1.11111111e+00, -6.41893060e-18, -2.91012471e-18]])"
      ]
     },
     "execution_count": 129,
     "metadata": {},
     "output_type": "execute_result"
    }
   ],
   "source": [
    "U.value"
   ]
  },
  {
   "cell_type": "code",
   "execution_count": null,
   "metadata": {},
   "outputs": [],
   "source": []
  }
 ],
 "metadata": {
  "interpreter": {
   "hash": "e1754c998ab84f8eaa52c0c2cbb4576ccf16646034fcb7b6bb8f783a0501eb3c"
  },
  "kernelspec": {
   "display_name": "Python 3.9.7 ('base')",
   "language": "python",
   "name": "python3"
  },
  "language_info": {
   "codemirror_mode": {
    "name": "ipython",
    "version": 3
   },
   "file_extension": ".py",
   "mimetype": "text/x-python",
   "name": "python",
   "nbconvert_exporter": "python",
   "pygments_lexer": "ipython3",
   "version": "3.9.7"
  },
  "orig_nbformat": 4
 },
 "nbformat": 4,
 "nbformat_minor": 2
}

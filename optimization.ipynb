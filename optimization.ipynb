{
 "cells": [
  {
   "cell_type": "code",
   "execution_count": 1,
   "metadata": {},
   "outputs": [],
   "source": [
    "import numpy as np\n",
    "import matplotlib.pyplot as plt\n",
    "import control as ct\n",
    "\n",
    "from HJK.dynamics.systems import simple2Dsystem\n",
    "from HJK.basis import monomials\n",
    "\n",
    "import cvxpy as cp"
   ]
  },
  {
   "cell_type": "markdown",
   "metadata": {},
   "source": [
    "## Define the system dynamics"
   ]
  },
  {
   "cell_type": "code",
   "execution_count": 2,
   "metadata": {},
   "outputs": [],
   "source": [
    "io_simple2D = ct.NonlinearIOSystem(\n",
    "    simple2Dsystem, None, inputs=('u'), outputs=('x1', 'x2'),\n",
    "    states=('x1', 'x2'), name='simple2D')"
   ]
  },
  {
   "cell_type": "markdown",
   "metadata": {},
   "source": [
    "### Plot free response of the system"
   ]
  },
  {
   "cell_type": "code",
   "execution_count": 11,
   "metadata": {},
   "outputs": [
    {
     "data": {
      "image/png": "[encoded data removed]",
      "text/plain": [
       "<Figure size 432x288 with 1 Axes>"
      ]
     },
     "metadata": {
      "needs_background": "light"
     },
     "output_type": "display_data"
    }
   ],
   "source": [
    "X0 = [1, 1]            \n",
    "T = np.linspace(0, 10, 1000)   # Simulation 70 years of time\n",
    "# Simulate the system\n",
    "u = 0\n",
    "params = {\"mu\":-1.0, \"lam\":-10.0}\n",
    "t, y = ct.input_output_response(io_simple2D, T, u, X0, params)\n",
    "\n",
    "# Plot the response\n",
    "plt.figure(1)\n",
    "plt.plot(t, y[0])\n",
    "plt.plot(t, y[1])\n",
    "plt.legend(['x1', 'x2'])\n",
    "plt.show(block=False)"
   ]
  },
  {
   "cell_type": "markdown",
   "metadata": {},
   "source": [
    "### Linearize the system"
   ]
  },
  {
   "cell_type": "code",
   "execution_count": 12,
   "metadata": {},
   "outputs": [],
   "source": [
    "eqpt = ct.find_eqpt(io_simple2D, X0, 0)\n",
    "xeq = eqpt[0]                         # choose the nonzero equilibrium point\n",
    "lin_predprey = ct.linearize(io_simple2D, xeq, 0)\n",
    "A = lin_predprey.A\n",
    "B = lin_predprey.B"
   ]
  },
  {
   "cell_type": "markdown",
   "metadata": {},
   "source": [
    "## Collect random datapoints from a domain"
   ]
  },
  {
   "cell_type": "code",
   "execution_count": 13,
   "metadata": {},
   "outputs": [],
   "source": [
    "domain = 5\n",
    "dim = 2\n",
    "numIC = 1000\n",
    "np.random.seed(1)\n",
    "X = np.random.uniform(low=-domain, high=domain, size=(dim,numIC)).astype(float) "
   ]
  },
  {
   "cell_type": "markdown",
   "metadata": {},
   "source": [
    "## Generate basis functions\n",
    "Monomials from d3s github"
   ]
  },
  {
   "cell_type": "code",
   "execution_count": 14,
   "metadata": {},
   "outputs": [
    {
     "name": "stdout",
     "output_type": "stream",
     "text": [
      "1.000001 + 1.00000 x_1 + 1.00000 x_2 + 1.00000 x_1^2\n"
     ]
    }
   ],
   "source": [
    "degree = 2\n",
    "d3s_monomials = monomials.monomials(degree)\n",
    "d3s_monomials.display(np.array([1.0, 1.0, 1.0, 1.0]),2)"
   ]
  },
  {
   "cell_type": "code",
   "execution_count": 15,
   "metadata": {},
   "outputs": [],
   "source": [
    "Psi = d3s_monomials(X)\n",
    "DPsi = d3s_monomials.diff(X)\n",
    "\n",
    "# remove 1 and linear parts\n",
    "Psi = Psi[dim+1:,:]\n",
    "DPsi = DPsi[dim+1:,:]"
   ]
  },
  {
   "cell_type": "markdown",
   "metadata": {},
   "source": [
    "## Setup Optimization problem"
   ]
  },
  {
   "cell_type": "code",
   "execution_count": 18,
   "metadata": {},
   "outputs": [],
   "source": [
    "# get xdot values\n",
    "t = 0\n",
    "u = 0\n",
    "F_z = y\n",
    "\n",
    "# build gradient matrix grad_Psi * f(x)\n",
    "Df_z = []\n",
    "for i in range(numIC):\n",
    "    Df_z.append(DPsi[:,:,i] @ F_z[:,i])\n",
    "Df_z = np.array(Df_z).T\n",
    "\n",
    "# get linear part\n",
    "E = A\n",
    "Ez = E @ X\n",
    "\n",
    "# get observables and size\n",
    "G_z = Psi\n",
    "# get length of Psi to determine coefficient U dimensions\n",
    "Nbs = np.shape(G_z)[0]"
   ]
  },
  {
   "cell_type": "code",
   "execution_count": 19,
   "metadata": {},
   "outputs": [
    {
     "name": "stdout",
     "output_type": "stream",
     "text": [
      "[[-0.01799053 -0.03492667  0.00192889]\n",
      " [-0.00335687 -0.00904743 -0.02560126]]\n"
     ]
    }
   ],
   "source": [
    "U = cp.Variable(shape=(dim, Nbs))\n",
    "objective = cp.Minimize(cp.norm(U @ Df_z + F_z - A @ U @ G_z - Ez, 'fro'))\n",
    "constraints  = []\n",
    "prob = cp.Problem(objective, constraints)\n",
    "\n",
    "# The optimal objective value is returned by `prob.solve()`.\n",
    "result = prob.solve()\n",
    "# The optimal value for x is stored in `x.value`.\n",
    "print(U.value)"
   ]
  }
 ],
 "metadata": {
  "interpreter": {
   "hash": "5080e62e581194305bea1ab6c0205c7f26f064615acb161a66176eb2704813ae"
  },
  "kernelspec": {
   "display_name": "Python 3.9.12 ('HJ_Koopman')",
   "language": "python",
   "name": "python3"
  },
  "language_info": {
   "codemirror_mode": {
    "name": "ipython",
    "version": 3
   },
   "file_extension": ".py",
   "mimetype": "text/x-python",
   "name": "python",
   "nbconvert_exporter": "python",
   "pygments_lexer": "ipython3",
   "version": "3.9.12"
  },
  "orig_nbformat": 4
 },
 "nbformat": 4,
 "nbformat_minor": 2
}

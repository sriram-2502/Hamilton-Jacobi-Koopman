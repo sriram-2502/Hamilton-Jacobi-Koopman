{
 "cells": [
  {
   "cell_type": "code",
   "execution_count": 39,
   "metadata": {},
   "outputs": [],
   "source": [
    "import numpy as np\n",
    "import matplotlib.pyplot as plt\n",
    "import numpy as np\n",
    "from scipy.integrate import solve_ivp\n",
    "from scipy.integrate import odeint\n",
    "\n",
    "from dynamics.systems import simple2D, rk1, rk4\n",
    "\n",
    "from deeptime.basis import Monomials"
   ]
  },
  {
   "cell_type": "code",
   "execution_count": 40,
   "metadata": {},
   "outputs": [],
   "source": [
    "plt.rcParams['figure.figsize'] = [9, 6]\n",
    "colors = plt.rcParams['axes.prop_cycle'].by_key()['color']"
   ]
  }
 ],
 "metadata": {
  "interpreter": {
   "hash": "5080e62e581194305bea1ab6c0205c7f26f064615acb161a66176eb2704813ae"
  },
  "kernelspec": {
   "display_name": "Python 3.9.12 ('HJ_Koopman')",
   "language": "python",
   "name": "python3"
  },
  "language_info": {
   "codemirror_mode": {
    "name": "ipython",
    "version": 3
   },
   "file_extension": ".py",
   "mimetype": "text/x-python",
   "name": "python",
   "nbconvert_exporter": "python",
   "pygments_lexer": "ipython3",
   "version": "3.9.12"
  },
  "orig_nbformat": 4
 },
 "nbformat": 4,
 "nbformat_minor": 2
}

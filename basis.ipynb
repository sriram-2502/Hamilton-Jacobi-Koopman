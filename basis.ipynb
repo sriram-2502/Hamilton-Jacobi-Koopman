{
 "cells": [
  {
   "cell_type": "code",
   "execution_count": 19,
   "metadata": {},
   "outputs": [],
   "source": [
    "import numpy as np\n",
    "import matplotlib.pyplot as plt\n",
    "import numpy as np\n",
    "\n",
    "from HJK.basis.monomials import monomials\n",
    "from deeptime.basis import Monomials\n",
    "import PySINDY.pysindy as ps\n"
   ]
  },
  {
   "cell_type": "markdown",
   "metadata": {},
   "source": [
    "## Collect random datapoints from a domain"
   ]
  },
  {
   "cell_type": "code",
   "execution_count": 99,
   "metadata": {},
   "outputs": [
    {
     "data": {
      "text/plain": [
       "(2, 1000)"
      ]
     },
     "execution_count": 99,
     "metadata": {},
     "output_type": "execute_result"
    }
   ],
   "source": [
    "domain = 5\n",
    "dim = 2\n",
    "numIC = 1000\n",
    "\n",
    "X = np.random.uniform(low=-domain, high=domain, size=(dim,numIC)).astype(float) \n",
    "np.shape(X)"
   ]
  },
  {
   "cell_type": "markdown",
   "metadata": {},
   "source": [
    "## Monomials from `deeptime`"
   ]
  },
  {
   "cell_type": "code",
   "execution_count": 76,
   "metadata": {},
   "outputs": [
    {
     "data": {
      "text/plain": [
       "['', 'x1', 'x2', 'x1^2', 'x1 x2', 'x2^2']"
      ]
     },
     "execution_count": 76,
     "metadata": {},
     "output_type": "execute_result"
    }
   ],
   "source": [
    "deeptime_lib = Monomials(p=2, d=2)\n",
    "deeptime_lib.get_feature_names([\"x1\", \"x2\"])"
   ]
  },
  {
   "cell_type": "markdown",
   "metadata": {},
   "source": [
    "## Monomials from `pySINDy`"
   ]
  },
  {
   "cell_type": "code",
   "execution_count": 47,
   "metadata": {},
   "outputs": [],
   "source": [
    "sindy_lib = ps.PolynomialLibrary(degree=2)"
   ]
  },
  {
   "cell_type": "markdown",
   "metadata": {},
   "source": [
    "## Monomials from `sklearn`"
   ]
  },
  {
   "cell_type": "code",
   "execution_count": 68,
   "metadata": {},
   "outputs": [],
   "source": [
    "from sklearn.preprocessing import PolynomialFeatures\n",
    "library = PolynomialFeatures(degree=2)"
   ]
  },
  {
   "cell_type": "code",
   "execution_count": 78,
   "metadata": {},
   "outputs": [
    {
     "data": {
      "text/plain": [
       "(1000, 6)"
      ]
     },
     "execution_count": 78,
     "metadata": {},
     "output_type": "execute_result"
    }
   ],
   "source": [
    "#deeptime_lib.fit(X.T)\n",
    "obs = deeptime_lib.transform(X.T)\n",
    "np.shape(obs)"
   ]
  },
  {
   "cell_type": "markdown",
   "metadata": {},
   "source": [
    "## Monomials from d3s github"
   ]
  },
  {
   "cell_type": "code",
   "execution_count": 7,
   "metadata": {},
   "outputs": [
    {
     "name": "stdout",
     "output_type": "stream",
     "text": [
      "1.000001 + 1.00000 x_1 + 1.00000 x_2 + 1.00000 x_1^2\n"
     ]
    }
   ],
   "source": [
    "d3s_monomials = monomials(2)\n",
    "d3s_monomials.display(np.array([1.0, 1.0, 1.0, 1.0]),2)"
   ]
  },
  {
   "cell_type": "code",
   "execution_count": 96,
   "metadata": {},
   "outputs": [
    {
     "data": {
      "text/plain": [
       "array([[1., 1.],\n",
       "       [1., 2.],\n",
       "       [1., 3.],\n",
       "       [1., 4.],\n",
       "       [1., 6.],\n",
       "       [1., 9.]])"
      ]
     },
     "execution_count": 96,
     "metadata": {},
     "output_type": "execute_result"
    }
   ],
   "source": [
    "X = np.array([[1, 2], [1,3]])\n",
    "obs = d3s_monomials(X)\n",
    "np.shape(obs)\n",
    "obs"
   ]
  },
  {
   "cell_type": "code",
   "execution_count": 98,
   "metadata": {},
   "outputs": [
    {
     "data": {
      "text/plain": [
       "array([[[0., 0.],\n",
       "        [0., 0.]],\n",
       "\n",
       "       [[1., 1.],\n",
       "        [0., 0.]],\n",
       "\n",
       "       [[0., 0.],\n",
       "        [1., 1.]],\n",
       "\n",
       "       [[2., 4.],\n",
       "        [0., 0.]],\n",
       "\n",
       "       [[1., 3.],\n",
       "        [1., 2.]],\n",
       "\n",
       "       [[0., 0.],\n",
       "        [2., 6.]]])"
      ]
     },
     "execution_count": 98,
     "metadata": {},
     "output_type": "execute_result"
    }
   ],
   "source": [
    "obs = d3s_monomials.diff(X)\n",
    "np.shape(obs)\n",
    "obs"
   ]
  }
 ],
 "metadata": {
  "interpreter": {
   "hash": "5080e62e581194305bea1ab6c0205c7f26f064615acb161a66176eb2704813ae"
  },
  "kernelspec": {
   "display_name": "Python 3.9.12 ('HJ_Koopman')",
   "language": "python",
   "name": "python3"
  },
  "language_info": {
   "codemirror_mode": {
    "name": "ipython",
    "version": 3
   },
   "file_extension": ".py",
   "mimetype": "text/x-python",
   "name": "python",
   "nbconvert_exporter": "python",
   "pygments_lexer": "ipython3",
   "version": "3.9.12"
  },
  "orig_nbformat": 4
 },
 "nbformat": 4,
 "nbformat_minor": 2
}

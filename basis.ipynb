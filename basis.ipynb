{
 "cells": [
  {
   "cell_type": "code",
   "execution_count": 25,
   "metadata": {},
   "outputs": [],
   "source": [
    "import numpy as np\n",
    "import matplotlib.pyplot as plt\n",
    "import numpy as np\n",
    "import torch\n",
    "import scipy as sp\n",
    "\n",
    "from HJK.basis.monomials import monomials\n",
    "from sklearn.preprocessing import PolynomialFeatures\n",
    "\n",
    "from deeptime.basis import Monomials\n",
    "#import PySINDY.pysindy as ps\n"
   ]
  },
  {
   "cell_type": "markdown",
   "metadata": {},
   "source": [
    "## Collect random datapoints from a domain"
   ]
  },
  {
   "cell_type": "code",
   "execution_count": 8,
   "metadata": {},
   "outputs": [
    {
     "data": {
      "text/plain": [
       "(2, 1000)"
      ]
     },
     "execution_count": 8,
     "metadata": {},
     "output_type": "execute_result"
    }
   ],
   "source": [
    "domain = 5\n",
    "dim = 2\n",
    "numIC = 1000\n",
    "\n",
    "X = np.random.uniform(low=-domain, high=domain, size=(dim,numIC)).astype(float) \n",
    "np.shape(X)"
   ]
  },
  {
   "cell_type": "markdown",
   "metadata": {},
   "source": [
    "## Monomials from `deeptime`"
   ]
  },
  {
   "cell_type": "code",
   "execution_count": 9,
   "metadata": {},
   "outputs": [
    {
     "data": {
      "text/plain": [
       "['', 'x1', 'x2', 'x1^2', 'x1 x2', 'x2^2']"
      ]
     },
     "execution_count": 9,
     "metadata": {},
     "output_type": "execute_result"
    }
   ],
   "source": [
    "deeptime_lib = Monomials(p=2, d=2)\n",
    "deeptime_lib.get_feature_names([\"x1\", \"x2\"])"
   ]
  },
  {
   "cell_type": "code",
   "execution_count": 10,
   "metadata": {},
   "outputs": [
    {
     "data": {
      "text/plain": [
       "array([[1., 1., 2., 1., 2., 4.]])"
      ]
     },
     "execution_count": 10,
     "metadata": {},
     "output_type": "execute_result"
    }
   ],
   "source": [
    "#X = torch.tensor([[1.0, 2.0], [1.0, 3.0]])\n",
    "X = np.array([[1.0, 2.0]], dtype=float)\n",
    "deeptime_lib(X)"
   ]
  },
  {
   "cell_type": "markdown",
   "metadata": {},
   "source": [
    "## Monomials from `pySINDy`"
   ]
  },
  {
   "cell_type": "code",
   "execution_count": 11,
   "metadata": {},
   "outputs": [],
   "source": [
    "#sindy_lib = ps.PolynomialLibrary(degree=2)"
   ]
  },
  {
   "cell_type": "markdown",
   "metadata": {},
   "source": [
    "## Monomials from d3s github"
   ]
  },
  {
   "cell_type": "code",
   "execution_count": 12,
   "metadata": {},
   "outputs": [
    {
     "name": "stdout",
     "output_type": "stream",
     "text": [
      "1.000001 + 1.00000 x_1 + 1.00000 x_2 + 1.00000 x_1^2\n"
     ]
    }
   ],
   "source": [
    "d3s_monomials = monomials(2)\n",
    "d3s_monomials.display(np.array([1.0, 1.0, 1.0, 1.0]),2)"
   ]
  },
  {
   "cell_type": "code",
   "execution_count": 13,
   "metadata": {},
   "outputs": [
    {
     "data": {
      "text/plain": [
       "array([[1., 1.],\n",
       "       [1., 2.],\n",
       "       [1., 3.],\n",
       "       [1., 4.],\n",
       "       [1., 6.],\n",
       "       [1., 9.]])"
      ]
     },
     "execution_count": 13,
     "metadata": {},
     "output_type": "execute_result"
    }
   ],
   "source": [
    "X = np.array([[1, 2], [1,3]])\n",
    "obs = d3s_monomials(X)\n",
    "np.shape(obs)\n",
    "obs"
   ]
  },
  {
   "cell_type": "code",
   "execution_count": 14,
   "metadata": {},
   "outputs": [
    {
     "data": {
      "text/plain": [
       "array([[1., 1.],\n",
       "       [1., 2.],\n",
       "       [1., 3.],\n",
       "       [1., 4.],\n",
       "       [1., 6.],\n",
       "       [1., 9.]])"
      ]
     },
     "execution_count": 14,
     "metadata": {},
     "output_type": "execute_result"
    }
   ],
   "source": [
    "Dobs = d3s_monomials.diff(X)\n",
    "np.shape(obs)\n",
    "obs"
   ]
  },
  {
   "cell_type": "markdown",
   "metadata": {},
   "source": [
    "# Monomials from  `sklearn.PolynomialFeatures`"
   ]
  },
  {
   "cell_type": "code",
   "execution_count": 15,
   "metadata": {},
   "outputs": [
    {
     "name": "stderr",
     "output_type": "stream",
     "text": [
      "c:\\Users\\sriramk\\.conda\\envs\\HJ_Koopman\\lib\\site-packages\\sklearn\\utils\\deprecation.py:87: FutureWarning: Function get_feature_names is deprecated; get_feature_names is deprecated in 1.0 and will be removed in 1.2. Please use get_feature_names_out instead.\n",
      "  warnings.warn(msg, category=FutureWarning)\n"
     ]
    },
    {
     "data": {
      "text/plain": [
       "['1', 'x1', 'x2', 'x1^2', 'x1 x2', 'x2^2']"
      ]
     },
     "execution_count": 15,
     "metadata": {},
     "output_type": "execute_result"
    }
   ],
   "source": [
    "#X = torch.tensor([[1.0, 2.0], [1.0, 3.0]])\n",
    "x = np.array([1.0,2.0], dtype=float)\n",
    "monomial_basis = PolynomialFeatures(2)\n",
    "Psi = monomial_basis.fit(X)\n",
    "Psi.get_feature_names(['x1','x2'])"
   ]
  },
  {
   "cell_type": "code",
   "execution_count": 16,
   "metadata": {},
   "outputs": [
    {
     "data": {
      "text/plain": [
       "array([[1., 1., 2., 1., 2., 4.],\n",
       "       [1., 1., 3., 1., 3., 9.]])"
      ]
     },
     "execution_count": 16,
     "metadata": {},
     "output_type": "execute_result"
    }
   ],
   "source": [
    "Psi_vals = monomial_basis.fit_transform(X)\n",
    "Psi_vals"
   ]
  },
  {
   "cell_type": "code",
   "execution_count": 17,
   "metadata": {},
   "outputs": [],
   "source": [
    "def basis(x):\n",
    "    monomial_basis = PolynomialFeatures(2)\n",
    "    return monomial_basis.fit(x)"
   ]
  },
  {
   "cell_type": "markdown",
   "metadata": {},
   "source": [
    "# calculating the jacobian"
   ]
  },
  {
   "cell_type": "code",
   "execution_count": 18,
   "metadata": {},
   "outputs": [],
   "source": [
    "def jacobian(func,initial,delta=1e-3):\n",
    "  f = func\n",
    "  nrow = len(f(initial))\n",
    "  print(nrow)\n",
    "  ncol = len(initial)\n",
    "  output = np.zeros(nrow*ncol)\n",
    "  output = output.reshape(nrow,ncol)\n",
    "  for i in range(nrow):\n",
    "    for j in range(ncol):\n",
    "      ej = np.zeros(ncol)\n",
    "      ej[j] = 1\n",
    "      dij = (f(initial+ delta * ej)[i] - f(initial- delta * ej)[i])/(2*delta)\n",
    "      output[i,j] = dij\n",
    "  return output"
   ]
  },
  {
   "cell_type": "code",
   "execution_count": 19,
   "metadata": {},
   "outputs": [
    {
     "data": {
      "text/plain": [
       "array([1., 4., 2.])"
      ]
     },
     "execution_count": 19,
     "metadata": {},
     "output_type": "execute_result"
    }
   ],
   "source": [
    "def f_test(x):\n",
    "  x1 = x[0]\n",
    "  x2 = x[1]\n",
    "  output = np.zeros(3)\n",
    "  output[0] = x[0]**2\n",
    "  output[1] = x[1]**2\n",
    "  output[2] = x[0]*x[1]\n",
    "  return output\n",
    "\n",
    "f_test([1,2])\n",
    "#np.shape(f_test([1,2]))"
   ]
  },
  {
   "cell_type": "code",
   "execution_count": 20,
   "metadata": {},
   "outputs": [
    {
     "name": "stdout",
     "output_type": "stream",
     "text": [
      "3\n"
     ]
    },
    {
     "data": {
      "text/plain": [
       "array([[2., 0.],\n",
       "       [0., 4.],\n",
       "       [2., 1.]])"
      ]
     },
     "execution_count": 20,
     "metadata": {},
     "output_type": "execute_result"
    }
   ],
   "source": [
    "jacobian(f_test,[1,2])"
   ]
  },
  {
   "cell_type": "code",
   "execution_count": 21,
   "metadata": {},
   "outputs": [
    {
     "data": {
      "text/plain": [
       "array([1., 1., 2., 1., 2., 4.])"
      ]
     },
     "execution_count": 21,
     "metadata": {},
     "output_type": "execute_result"
    }
   ],
   "source": [
    "x = np.array([[1.0,2.0]], dtype=float)\n",
    "Psi = PolynomialFeatures(2)\n",
    "Psi.fit_transform(x).squeeze()"
   ]
  },
  {
   "cell_type": "code",
   "execution_count": 22,
   "metadata": {},
   "outputs": [],
   "source": [
    "def jacobian_sk(func,initial,delta=1e-3):\n",
    "  f = func\n",
    "  nrow = len(f.fit_transform(initial).squeeze())\n",
    "  ncol = len(initial.squeeze())\n",
    "  output = np.zeros(nrow*ncol)\n",
    "  output = output.reshape(nrow,ncol)\n",
    "  print(np.shape(output))\n",
    "  for i in range(nrow):\n",
    "    for j in range(ncol):\n",
    "      ej = np.zeros(ncol)\n",
    "      ej[j] = 1\n",
    "      dij = (f.fit_transform(initial+ delta * ej).squeeze()[i] - f.fit_transform(initial- delta * ej).squeeze()[i])/(2*delta)\n",
    "      output[i,j] = dij\n",
    "  return output"
   ]
  },
  {
   "cell_type": "code",
   "execution_count": 23,
   "metadata": {},
   "outputs": [
    {
     "name": "stdout",
     "output_type": "stream",
     "text": [
      "(6, 2)\n"
     ]
    },
    {
     "data": {
      "text/plain": [
       "array([[0., 0.],\n",
       "       [1., 0.],\n",
       "       [0., 1.],\n",
       "       [2., 0.],\n",
       "       [2., 1.],\n",
       "       [0., 4.]])"
      ]
     },
     "execution_count": 23,
     "metadata": {},
     "output_type": "execute_result"
    }
   ],
   "source": [
    "x = np.array([[1.0,2.0]], dtype=float)\n",
    "jacobian_sk(Psi, x)"
   ]
  }
 ],
 "metadata": {
  "interpreter": {
   "hash": "5080e62e581194305bea1ab6c0205c7f26f064615acb161a66176eb2704813ae"
  },
  "kernelspec": {
   "display_name": "Python 3.9.12 ('HJ_Koopman')",
   "language": "python",
   "name": "python3"
  },
  "language_info": {
   "codemirror_mode": {
    "name": "ipython",
    "version": 3
   },
   "file_extension": ".py",
   "mimetype": "text/x-python",
   "name": "python",
   "nbconvert_exporter": "python",
   "pygments_lexer": "ipython3",
   "version": "3.9.12"
  },
  "orig_nbformat": 4
 },
 "nbformat": 4,
 "nbformat_minor": 2
}

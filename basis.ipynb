{
 "cells": [
  {
   "cell_type": "code",
   "execution_count": 2,
   "metadata": {},
   "outputs": [],
   "source": [
    "import numpy as np\n",
    "import matplotlib.pyplot as plt\n",
    "import numpy as np\n",
    "import torch\n",
    "\n",
    "from HJK.basis.monomials import monomials\n",
    "from sklearn.preprocessing import PolynomialFeatures\n",
    "\n",
    "#from deeptime.basis import Monomials\n",
    "#import PySINDY.pysindy as ps\n"
   ]
  },
  {
   "cell_type": "markdown",
   "metadata": {},
   "source": [
    "## Collect random datapoints from a domain"
   ]
  },
  {
   "cell_type": "code",
   "execution_count": 2,
   "metadata": {},
   "outputs": [
    {
     "data": {
      "text/plain": [
       "(2, 1000)"
      ]
     },
     "execution_count": 2,
     "metadata": {},
     "output_type": "execute_result"
    }
   ],
   "source": [
    "domain = 5\n",
    "dim = 2\n",
    "numIC = 1000\n",
    "\n",
    "X = np.random.uniform(low=-domain, high=domain, size=(dim,numIC)).astype(float) \n",
    "np.shape(X)"
   ]
  },
  {
   "cell_type": "markdown",
   "metadata": {},
   "source": [
    "## Monomials from `deeptime`"
   ]
  },
  {
   "cell_type": "code",
   "execution_count": 6,
   "metadata": {},
   "outputs": [
    {
     "data": {
      "text/plain": [
       "['', 'x1', 'x2', 'x1^2', 'x1 x2', 'x2^2']"
      ]
     },
     "execution_count": 6,
     "metadata": {},
     "output_type": "execute_result"
    }
   ],
   "source": [
    "deeptime_lib = Monomials(p=2, d=2)\n",
    "deeptime_lib.get_feature_names([\"x1\", \"x2\"])"
   ]
  },
  {
   "cell_type": "markdown",
   "metadata": {},
   "source": [
    "## Monomials from `pySINDy`"
   ]
  },
  {
   "cell_type": "code",
   "execution_count": 7,
   "metadata": {},
   "outputs": [
    {
     "ename": "NameError",
     "evalue": "name 'ps' is not defined",
     "output_type": "error",
     "traceback": [
      "\u001b[1;31m---------------------------------------------------------------------------\u001b[0m",
      "\u001b[1;31mNameError\u001b[0m                                 Traceback (most recent call last)",
      "\u001b[1;32mc:\\Users\\Sri\\Downloads\\Hamilton_Jacobi_Koopman\\Hamilton-Jacobi-Koopman\\basis.ipynb Cell 7'\u001b[0m in \u001b[0;36m<cell line: 1>\u001b[1;34m()\u001b[0m\n\u001b[1;32m----> <a href='vscode-notebook-cell:/c%3A/Users/Sri/Downloads/Hamilton_Jacobi_Koopman/Hamilton-Jacobi-Koopman/basis.ipynb#ch0000006?line=0'>1</a>\u001b[0m sindy_lib \u001b[39m=\u001b[39m ps\u001b[39m.\u001b[39mPolynomialLibrary(degree\u001b[39m=\u001b[39m\u001b[39m2\u001b[39m)\n",
      "\u001b[1;31mNameError\u001b[0m: name 'ps' is not defined"
     ]
    }
   ],
   "source": [
    "sindy_lib = ps.PolynomialLibrary(degree=2)"
   ]
  },
  {
   "cell_type": "markdown",
   "metadata": {},
   "source": [
    "## Monomials from d3s github"
   ]
  },
  {
   "cell_type": "code",
   "execution_count": 8,
   "metadata": {},
   "outputs": [
    {
     "name": "stdout",
     "output_type": "stream",
     "text": [
      "1.000001 + 1.00000 x_1 + 1.00000 x_2 + 1.00000 x_1^2\n"
     ]
    }
   ],
   "source": [
    "d3s_monomials = monomials(2)\n",
    "d3s_monomials.display(np.array([1.0, 1.0, 1.0, 1.0]),2)"
   ]
  },
  {
   "cell_type": "code",
   "execution_count": 14,
   "metadata": {},
   "outputs": [
    {
     "data": {
      "text/plain": [
       "array([[1., 1.],\n",
       "       [1., 2.],\n",
       "       [1., 3.],\n",
       "       [1., 4.],\n",
       "       [1., 6.],\n",
       "       [1., 9.]])"
      ]
     },
     "execution_count": 14,
     "metadata": {},
     "output_type": "execute_result"
    }
   ],
   "source": [
    "X = np.array([[1, 2], [1,3]])\n",
    "obs = d3s_monomials(X)\n",
    "np.shape(obs)\n",
    "obs"
   ]
  },
  {
   "cell_type": "code",
   "execution_count": 13,
   "metadata": {},
   "outputs": [
    {
     "data": {
      "text/plain": [
       "array([[[0., 0.],\n",
       "        [0., 0.]],\n",
       "\n",
       "       [[1., 1.],\n",
       "        [0., 0.]],\n",
       "\n",
       "       [[0., 0.],\n",
       "        [1., 1.]],\n",
       "\n",
       "       [[2., 4.],\n",
       "        [0., 0.]],\n",
       "\n",
       "       [[1., 3.],\n",
       "        [1., 2.]],\n",
       "\n",
       "       [[0., 0.],\n",
       "        [2., 6.]]])"
      ]
     },
     "execution_count": 13,
     "metadata": {},
     "output_type": "execute_result"
    }
   ],
   "source": [
    "Dobs = d3s_monomials.diff(X)\n",
    "np.shape(obs)\n",
    "obs"
   ]
  },
  {
   "cell_type": "markdown",
   "metadata": {},
   "source": [
    "# Monomials from  `sklearn.PolynomialFeatures`"
   ]
  },
  {
   "cell_type": "code",
   "execution_count": 29,
   "metadata": {},
   "outputs": [
    {
     "data": {
      "text/plain": [
       "['1', 'x1', 'x2', 'x1^2', 'x1 x2', 'x2^2']"
      ]
     },
     "execution_count": 29,
     "metadata": {},
     "output_type": "execute_result"
    }
   ],
   "source": [
    "#X = torch.tensor([[1.0, 2.0], [1.0, 3.0]])\n",
    "x = np.array([1.0,2.0], dtype=float)\n",
    "monomial_basis = PolynomialFeatures(2)\n",
    "monomial_basis.fit(X)\n",
    "monomial_basis.get_feature_names(['x1','x2'])"
   ]
  },
  {
   "cell_type": "code",
   "execution_count": 30,
   "metadata": {},
   "outputs": [
    {
     "data": {
      "text/plain": [
       "array([[1., 1., 2., 1., 2., 4.],\n",
       "       [1., 1., 3., 1., 3., 9.]])"
      ]
     },
     "execution_count": 30,
     "metadata": {},
     "output_type": "execute_result"
    }
   ],
   "source": [
    "Psi = monomial_basis.fit_transform(X)\n",
    "Psi"
   ]
  },
  {
   "cell_type": "code",
   "execution_count": 31,
   "metadata": {},
   "outputs": [],
   "source": [
    "def basis(x):\n",
    "    monomial_basis = PolynomialFeatures(2)\n",
    "    return monomial_basis.fit(x)"
   ]
  },
  {
   "cell_type": "code",
   "execution_count": 4,
   "metadata": {},
   "outputs": [
    {
     "ename": "AttributeError",
     "evalue": "'Tensor' object has no attribute 'get_dims'",
     "output_type": "error",
     "traceback": [
      "\u001b[1;31m---------------------------------------------------------------------------\u001b[0m",
      "\u001b[1;31mAttributeError\u001b[0m                            Traceback (most recent call last)",
      "\u001b[1;32mc:\\Users\\Sri\\Downloads\\Hamilton_Jacobi_Koopman\\Hamilton-Jacobi-Koopman\\basis.ipynb Cell 16'\u001b[0m in \u001b[0;36m<cell line: 4>\u001b[1;34m()\u001b[0m\n\u001b[0;32m      <a href='vscode-notebook-cell:/c%3A/Users/Sri/Downloads/Hamilton_Jacobi_Koopman/Hamilton-Jacobi-Koopman/basis.ipynb#ch0000021?line=0'>1</a>\u001b[0m \u001b[39mfrom\u001b[39;00m \u001b[39mOrthNet\u001b[39;00m\u001b[39m.\u001b[39;00m\u001b[39morthnet\u001b[39;00m \u001b[39mimport\u001b[39;00m Poly\n\u001b[0;32m      <a href='vscode-notebook-cell:/c%3A/Users/Sri/Downloads/Hamilton_Jacobi_Koopman/Hamilton-Jacobi-Koopman/basis.ipynb#ch0000021?line=2'>3</a>\u001b[0m x \u001b[39m=\u001b[39m torch\u001b[39m.\u001b[39mDoubleTensor(np\u001b[39m.\u001b[39mrandom\u001b[39m.\u001b[39mrandom((\u001b[39m10\u001b[39m, \u001b[39m2\u001b[39m)))\n\u001b[1;32m----> <a href='vscode-notebook-cell:/c%3A/Users/Sri/Downloads/Hamilton_Jacobi_Koopman/Hamilton-Jacobi-Koopman/basis.ipynb#ch0000021?line=3'>4</a>\u001b[0m L \u001b[39m=\u001b[39m Poly(x, \u001b[39mNone\u001b[39;49;00m, x, \u001b[39m2\u001b[39;49m, recurrence \u001b[39m=\u001b[39;49m \u001b[39mlambda\u001b[39;49;00m x1, x2, : x1\u001b[39m*\u001b[39;49mx2)\n\u001b[0;32m      <a href='vscode-notebook-cell:/c%3A/Users/Sri/Downloads/Hamilton_Jacobi_Koopman/Hamilton-Jacobi-Koopman/basis.ipynb#ch0000021?line=4'>5</a>\u001b[0m \u001b[39mprint\u001b[39m(L\u001b[39m.\u001b[39mtensor)\n",
      "File \u001b[1;32mc:\\Users\\Sri\\Downloads\\Hamilton_Jacobi_Koopman\\Hamilton-Jacobi-Koopman\\OrthNet\\orthnet\\poly\\polynomial.py:36\u001b[0m, in \u001b[0;36mPoly.__init__\u001b[1;34m(self, backend, x, degree, initial, recurrence, combinations)\u001b[0m\n\u001b[0;32m     <a href='file:///c%3A/Users/Sri/Downloads/Hamilton_Jacobi_Koopman/Hamilton-Jacobi-Koopman/OrthNet/orthnet/poly/polynomial.py?line=33'>34</a>\u001b[0m \u001b[39mself\u001b[39m\u001b[39m.\u001b[39m_recurrence \u001b[39m=\u001b[39m recurrence\n\u001b[0;32m     <a href='file:///c%3A/Users/Sri/Downloads/Hamilton_Jacobi_Koopman/Hamilton-Jacobi-Koopman/OrthNet/orthnet/poly/polynomial.py?line=34'>35</a>\u001b[0m \u001b[39mself\u001b[39m\u001b[39m.\u001b[39m_backend \u001b[39m=\u001b[39m backend\n\u001b[1;32m---> <a href='file:///c%3A/Users/Sri/Downloads/Hamilton_Jacobi_Koopman/Hamilton-Jacobi-Koopman/OrthNet/orthnet/poly/polynomial.py?line=35'>36</a>\u001b[0m \u001b[39mself\u001b[39m\u001b[39m.\u001b[39m_dim \u001b[39m=\u001b[39m \u001b[39mself\u001b[39;49m\u001b[39m.\u001b[39;49m_backend\u001b[39m.\u001b[39;49mget_dims(\u001b[39mself\u001b[39m\u001b[39m.\u001b[39m_x)[\u001b[39m1\u001b[39m]\n\u001b[0;32m     <a href='file:///c%3A/Users/Sri/Downloads/Hamilton_Jacobi_Koopman/Hamilton-Jacobi-Koopman/OrthNet/orthnet/poly/polynomial.py?line=37'>38</a>\u001b[0m \u001b[39mif\u001b[39;00m combinations \u001b[39mis\u001b[39;00m \u001b[39mnot\u001b[39;00m \u001b[39mNone\u001b[39;00m:\n\u001b[0;32m     <a href='file:///c%3A/Users/Sri/Downloads/Hamilton_Jacobi_Koopman/Hamilton-Jacobi-Koopman/OrthNet/orthnet/poly/polynomial.py?line=38'>39</a>\u001b[0m \t\u001b[39mself\u001b[39m\u001b[39m.\u001b[39m_index_combinations \u001b[39m=\u001b[39m combinations\n",
      "\u001b[1;31mAttributeError\u001b[0m: 'Tensor' object has no attribute 'get_dims'"
     ]
    }
   ],
   "source": [
    "from OrthNet.orthnet import Poly\n",
    "\n",
    "x = torch.DoubleTensor(np.random.random((10, 2)))\n",
    "L = Poly(x, None, x, 2, recurrence = lambda x1, x2, : x1*x2)\n",
    "print(L.tensor)"
   ]
  }
 ],
 "metadata": {
  "interpreter": {
   "hash": "6fe3d905ccf8bdc800e55c935b31d20e755709c44b40c53509f03e1be84fb235"
  },
  "kernelspec": {
   "display_name": "Python 3.9.12 ('pytorch')",
   "language": "python",
   "name": "python3"
  },
  "language_info": {
   "codemirror_mode": {
    "name": "ipython",
    "version": 3
   },
   "file_extension": ".py",
   "mimetype": "text/x-python",
   "name": "python",
   "nbconvert_exporter": "python",
   "pygments_lexer": "ipython3",
   "version": "3.9.12"
  },
  "orig_nbformat": 4
 },
 "nbformat": 4,
 "nbformat_minor": 2
}

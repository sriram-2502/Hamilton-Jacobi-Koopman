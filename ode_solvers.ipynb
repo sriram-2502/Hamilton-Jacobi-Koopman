{
 "cells": [
  {
   "cell_type": "code",
   "execution_count": 20,
   "metadata": {},
   "outputs": [],
   "source": [
    "import numpy as np\n",
    "import matplotlib.pyplot as plt\n",
    "import numpy as np\n",
    "from scipy.integrate import solve_ivp\n",
    "from scipy.integrate import odeint\n",
    "\n",
    "from HJK.dynamics.systems import simple2D, rk1, rk4"
   ]
  },
  {
   "cell_type": "code",
   "execution_count": 21,
   "metadata": {},
   "outputs": [],
   "source": [
    "plt.rcParams['figure.figsize'] = [9, 6]\n",
    "colors = plt.rcParams['axes.prop_cycle'].by_key()['color']"
   ]
  },
  {
   "cell_type": "markdown",
   "metadata": {},
   "source": [
    "# Integrate using `scipy odeint`"
   ]
  },
  {
   "cell_type": "code",
   "execution_count": 22,
   "metadata": {},
   "outputs": [
    {
     "data": {
      "text/plain": [
       "<matplotlib.legend.Legend at 0x172c14db5b0>"
      ]
     },
     "execution_count": 22,
     "metadata": {},
     "output_type": "execute_result"
    },
    {
     "data": {
      "image/png": "[encoded data removed]",
      "text/plain": [
       "<Figure size 648x432 with 1 Axes>"
      ]
     },
     "metadata": {
      "needs_background": "light"
     },
     "output_type": "display_data"
    }
   ],
   "source": [
    "def u_fun():\n",
    "    return [1.0, 1.0] # no control\n",
    "\n",
    "# Generate measurement data\n",
    "dt = .0001\n",
    "\n",
    "t_train = np.arange(0, 10, dt)\n",
    "x0_train = [1.0, 1.0]\n",
    "t_train_span = (t_train[0], t_train[-1])\n",
    "\n",
    "u =u_fun()\n",
    "\n",
    "x_train = odeint(simple2D, x0_train, t_train, args=(u, -10.0, -10.0))\n",
    "\n",
    "plt.plot(t_train, x_train)\n",
    "plt.legend([\"x1\", \"x2\"])"
   ]
  },
  {
   "cell_type": "markdown",
   "metadata": {},
   "source": [
    "# Integrate using `scipy solve_ivp (default method is RK45)`"
   ]
  },
  {
   "cell_type": "code",
   "execution_count": 23,
   "metadata": {},
   "outputs": [
    {
     "ename": "TypeError",
     "evalue": "'float' object is not subscriptable",
     "output_type": "error",
     "traceback": [
      "\u001b[1;31m---------------------------------------------------------------------------\u001b[0m",
      "\u001b[1;31mTypeError\u001b[0m                                 Traceback (most recent call last)",
      "\u001b[1;32mc:\\Users\\sriramk\\Downloads\\Hamilton_Jacobi_Koopman\\Hamilton-Jacobi-Koopman\\ode_solvers.ipynb Cell 6'\u001b[0m in \u001b[0;36m<cell line: 19>\u001b[1;34m()\u001b[0m\n\u001b[0;32m     <a href='vscode-notebook-cell:/c%3A/Users/sriramk/Downloads/Hamilton_Jacobi_Koopman/Hamilton-Jacobi-Koopman/ode_solvers.ipynb#ch0000018?line=16'>17</a>\u001b[0m x0_train \u001b[39m=\u001b[39m [\u001b[39m1\u001b[39m, \u001b[39m1\u001b[39m]\n\u001b[0;32m     <a href='vscode-notebook-cell:/c%3A/Users/sriramk/Downloads/Hamilton_Jacobi_Koopman/Hamilton-Jacobi-Koopman/ode_solvers.ipynb#ch0000018?line=17'>18</a>\u001b[0m t_train_span \u001b[39m=\u001b[39m (t_train[\u001b[39m0\u001b[39m], t_train[\u001b[39m-\u001b[39m\u001b[39m1\u001b[39m])\n\u001b[1;32m---> <a href='vscode-notebook-cell:/c%3A/Users/sriramk/Downloads/Hamilton_Jacobi_Koopman/Hamilton-Jacobi-Koopman/ode_solvers.ipynb#ch0000018?line=18'>19</a>\u001b[0m x_train \u001b[39m=\u001b[39m solve_ivp(simple2D, t_train_span, x0_train, \n\u001b[0;32m     <a href='vscode-notebook-cell:/c%3A/Users/sriramk/Downloads/Hamilton_Jacobi_Koopman/Hamilton-Jacobi-Koopman/ode_solvers.ipynb#ch0000018?line=19'>20</a>\u001b[0m                     t_eval\u001b[39m=\u001b[39mt_train, \u001b[39m*\u001b[39m\u001b[39m*\u001b[39mintegrator_keywords)\u001b[39m.\u001b[39my\u001b[39m.\u001b[39mT\n\u001b[0;32m     <a href='vscode-notebook-cell:/c%3A/Users/sriramk/Downloads/Hamilton_Jacobi_Koopman/Hamilton-Jacobi-Koopman/ode_solvers.ipynb#ch0000018?line=21'>22</a>\u001b[0m plt\u001b[39m.\u001b[39mplot(t_train, x_train)\n\u001b[0;32m     <a href='vscode-notebook-cell:/c%3A/Users/sriramk/Downloads/Hamilton_Jacobi_Koopman/Hamilton-Jacobi-Koopman/ode_solvers.ipynb#ch0000018?line=22'>23</a>\u001b[0m plt\u001b[39m.\u001b[39mlegend([\u001b[39m\"\u001b[39m\u001b[39mx1\u001b[39m\u001b[39m\"\u001b[39m, \u001b[39m\"\u001b[39m\u001b[39mx2\u001b[39m\u001b[39m\"\u001b[39m])\n",
      "File \u001b[1;32mc:\\Users\\sriramk\\.conda\\envs\\HJ_Koopman\\lib\\site-packages\\scipy\\integrate\\_ivp\\ivp.py:542\u001b[0m, in \u001b[0;36msolve_ivp\u001b[1;34m(fun, t_span, y0, method, t_eval, dense_output, events, vectorized, args, **options)\u001b[0m\n\u001b[0;32m    <a href='file:///c%3A/Users/sriramk/.conda/envs/HJ_Koopman/lib/site-packages/scipy/integrate/_ivp/ivp.py?line=538'>539</a>\u001b[0m \u001b[39mif\u001b[39;00m method \u001b[39min\u001b[39;00m METHODS:\n\u001b[0;32m    <a href='file:///c%3A/Users/sriramk/.conda/envs/HJ_Koopman/lib/site-packages/scipy/integrate/_ivp/ivp.py?line=539'>540</a>\u001b[0m     method \u001b[39m=\u001b[39m METHODS[method]\n\u001b[1;32m--> <a href='file:///c%3A/Users/sriramk/.conda/envs/HJ_Koopman/lib/site-packages/scipy/integrate/_ivp/ivp.py?line=541'>542</a>\u001b[0m solver \u001b[39m=\u001b[39m method(fun, t0, y0, tf, vectorized\u001b[39m=\u001b[39mvectorized, \u001b[39m*\u001b[39m\u001b[39m*\u001b[39moptions)\n\u001b[0;32m    <a href='file:///c%3A/Users/sriramk/.conda/envs/HJ_Koopman/lib/site-packages/scipy/integrate/_ivp/ivp.py?line=543'>544</a>\u001b[0m \u001b[39mif\u001b[39;00m t_eval \u001b[39mis\u001b[39;00m \u001b[39mNone\u001b[39;00m:\n\u001b[0;32m    <a href='file:///c%3A/Users/sriramk/.conda/envs/HJ_Koopman/lib/site-packages/scipy/integrate/_ivp/ivp.py?line=544'>545</a>\u001b[0m     ts \u001b[39m=\u001b[39m [t0]\n",
      "File \u001b[1;32mc:\\Users\\sriramk\\.conda\\envs\\HJ_Koopman\\lib\\site-packages\\scipy\\integrate\\_ivp\\rk.py:94\u001b[0m, in \u001b[0;36mRungeKutta.__init__\u001b[1;34m(self, fun, t0, y0, t_bound, max_step, rtol, atol, vectorized, first_step, **extraneous)\u001b[0m\n\u001b[0;32m     <a href='file:///c%3A/Users/sriramk/.conda/envs/HJ_Koopman/lib/site-packages/scipy/integrate/_ivp/rk.py?line=91'>92</a>\u001b[0m \u001b[39mself\u001b[39m\u001b[39m.\u001b[39mmax_step \u001b[39m=\u001b[39m validate_max_step(max_step)\n\u001b[0;32m     <a href='file:///c%3A/Users/sriramk/.conda/envs/HJ_Koopman/lib/site-packages/scipy/integrate/_ivp/rk.py?line=92'>93</a>\u001b[0m \u001b[39mself\u001b[39m\u001b[39m.\u001b[39mrtol, \u001b[39mself\u001b[39m\u001b[39m.\u001b[39matol \u001b[39m=\u001b[39m validate_tol(rtol, atol, \u001b[39mself\u001b[39m\u001b[39m.\u001b[39mn)\n\u001b[1;32m---> <a href='file:///c%3A/Users/sriramk/.conda/envs/HJ_Koopman/lib/site-packages/scipy/integrate/_ivp/rk.py?line=93'>94</a>\u001b[0m \u001b[39mself\u001b[39m\u001b[39m.\u001b[39mf \u001b[39m=\u001b[39m \u001b[39mself\u001b[39;49m\u001b[39m.\u001b[39;49mfun(\u001b[39mself\u001b[39;49m\u001b[39m.\u001b[39;49mt, \u001b[39mself\u001b[39;49m\u001b[39m.\u001b[39;49my)\n\u001b[0;32m     <a href='file:///c%3A/Users/sriramk/.conda/envs/HJ_Koopman/lib/site-packages/scipy/integrate/_ivp/rk.py?line=94'>95</a>\u001b[0m \u001b[39mif\u001b[39;00m first_step \u001b[39mis\u001b[39;00m \u001b[39mNone\u001b[39;00m:\n\u001b[0;32m     <a href='file:///c%3A/Users/sriramk/.conda/envs/HJ_Koopman/lib/site-packages/scipy/integrate/_ivp/rk.py?line=95'>96</a>\u001b[0m     \u001b[39mself\u001b[39m\u001b[39m.\u001b[39mh_abs \u001b[39m=\u001b[39m select_initial_step(\n\u001b[0;32m     <a href='file:///c%3A/Users/sriramk/.conda/envs/HJ_Koopman/lib/site-packages/scipy/integrate/_ivp/rk.py?line=96'>97</a>\u001b[0m         \u001b[39mself\u001b[39m\u001b[39m.\u001b[39mfun, \u001b[39mself\u001b[39m\u001b[39m.\u001b[39mt, \u001b[39mself\u001b[39m\u001b[39m.\u001b[39my, \u001b[39mself\u001b[39m\u001b[39m.\u001b[39mf, \u001b[39mself\u001b[39m\u001b[39m.\u001b[39mdirection,\n\u001b[0;32m     <a href='file:///c%3A/Users/sriramk/.conda/envs/HJ_Koopman/lib/site-packages/scipy/integrate/_ivp/rk.py?line=97'>98</a>\u001b[0m         \u001b[39mself\u001b[39m\u001b[39m.\u001b[39merror_estimator_order, \u001b[39mself\u001b[39m\u001b[39m.\u001b[39mrtol, \u001b[39mself\u001b[39m\u001b[39m.\u001b[39matol)\n",
      "File \u001b[1;32mc:\\Users\\sriramk\\.conda\\envs\\HJ_Koopman\\lib\\site-packages\\scipy\\integrate\\_ivp\\base.py:138\u001b[0m, in \u001b[0;36mOdeSolver.__init__.<locals>.fun\u001b[1;34m(t, y)\u001b[0m\n\u001b[0;32m    <a href='file:///c%3A/Users/sriramk/.conda/envs/HJ_Koopman/lib/site-packages/scipy/integrate/_ivp/base.py?line=135'>136</a>\u001b[0m \u001b[39mdef\u001b[39;00m \u001b[39mfun\u001b[39m(t, y):\n\u001b[0;32m    <a href='file:///c%3A/Users/sriramk/.conda/envs/HJ_Koopman/lib/site-packages/scipy/integrate/_ivp/base.py?line=136'>137</a>\u001b[0m     \u001b[39mself\u001b[39m\u001b[39m.\u001b[39mnfev \u001b[39m+\u001b[39m\u001b[39m=\u001b[39m \u001b[39m1\u001b[39m\n\u001b[1;32m--> <a href='file:///c%3A/Users/sriramk/.conda/envs/HJ_Koopman/lib/site-packages/scipy/integrate/_ivp/base.py?line=137'>138</a>\u001b[0m     \u001b[39mreturn\u001b[39;00m \u001b[39mself\u001b[39;49m\u001b[39m.\u001b[39;49mfun_single(t, y)\n",
      "File \u001b[1;32mc:\\Users\\sriramk\\.conda\\envs\\HJ_Koopman\\lib\\site-packages\\scipy\\integrate\\_ivp\\base.py:20\u001b[0m, in \u001b[0;36mcheck_arguments.<locals>.fun_wrapped\u001b[1;34m(t, y)\u001b[0m\n\u001b[0;32m     <a href='file:///c%3A/Users/sriramk/.conda/envs/HJ_Koopman/lib/site-packages/scipy/integrate/_ivp/base.py?line=18'>19</a>\u001b[0m \u001b[39mdef\u001b[39;00m \u001b[39mfun_wrapped\u001b[39m(t, y):\n\u001b[1;32m---> <a href='file:///c%3A/Users/sriramk/.conda/envs/HJ_Koopman/lib/site-packages/scipy/integrate/_ivp/base.py?line=19'>20</a>\u001b[0m     \u001b[39mreturn\u001b[39;00m np\u001b[39m.\u001b[39masarray(fun(t, y), dtype\u001b[39m=\u001b[39mdtype)\n",
      "File \u001b[1;32mc:\\Users\\sriramk\\Downloads\\Hamilton_Jacobi_Koopman\\Hamilton-Jacobi-Koopman\\HJK\\dynamics\\systems.py:6\u001b[0m, in \u001b[0;36msimple2D\u001b[1;34m(x, t, u, mu, lam)\u001b[0m\n\u001b[0;32m      <a href='file:///c%3A/Users/sriramk/Downloads/Hamilton_Jacobi_Koopman/Hamilton-Jacobi-Koopman/HJK/dynamics/systems.py?line=4'>5</a>\u001b[0m \u001b[39mdef\u001b[39;00m \u001b[39msimple2D\u001b[39m(x, t, u\u001b[39m=\u001b[39m[\u001b[39m1.0\u001b[39m, \u001b[39m1.0\u001b[39m], mu\u001b[39m=\u001b[39m\u001b[39m1.0\u001b[39m, lam\u001b[39m=\u001b[39m\u001b[39m1.0\u001b[39m):\n\u001b[1;32m----> <a href='file:///c%3A/Users/sriramk/Downloads/Hamilton_Jacobi_Koopman/Hamilton-Jacobi-Koopman/HJK/dynamics/systems.py?line=5'>6</a>\u001b[0m     x1 \u001b[39m=\u001b[39m x[\u001b[39m0\u001b[39;49m]\n\u001b[0;32m      <a href='file:///c%3A/Users/sriramk/Downloads/Hamilton_Jacobi_Koopman/Hamilton-Jacobi-Koopman/HJK/dynamics/systems.py?line=6'>7</a>\u001b[0m     x2 \u001b[39m=\u001b[39m x[\u001b[39m1\u001b[39m]\n\u001b[0;32m      <a href='file:///c%3A/Users/sriramk/Downloads/Hamilton_Jacobi_Koopman/Hamilton-Jacobi-Koopman/HJK/dynamics/systems.py?line=8'>9</a>\u001b[0m     B \u001b[39m=\u001b[39m [\u001b[39m1\u001b[39m, \u001b[39m1\u001b[39m]\n",
      "\u001b[1;31mTypeError\u001b[0m: 'float' object is not subscriptable"
     ]
    }
   ],
   "source": [
    "def u_fun():\n",
    "    return [1.0, 1.0] # no control\n",
    "u = u_fun()\n",
    "\n",
    "# Generate measurement data\n",
    "dt = .0001\n",
    "\n",
    "\n",
    "# Initialize integrator keywords for solve_ivp to replicate the odeint defaults\n",
    "integrator_keywords = {}\n",
    "integrator_keywords['rtol'] = 1e-12\n",
    "integrator_keywords['method'] = 'RK45'\n",
    "integrator_keywords['atol'] = 1e-12\n",
    "\n",
    "\n",
    "t_train = np.arange(0, 10, dt)\n",
    "x0_train = [1, 1]\n",
    "t_train_span = (t_train[0], t_train[-1])\n",
    "x_train = solve_ivp(simple2D, t_train_span, x0_train, \n",
    "                    t_eval=t_train, **integrator_keywords).y.T\n",
    "\n",
    "plt.plot(t_train, x_train)\n",
    "plt.legend([\"x1\", \"x2\"])"
   ]
  },
  {
   "cell_type": "markdown",
   "metadata": {},
   "source": [
    "# Integrate using Runge Kutta order 1"
   ]
  },
  {
   "cell_type": "code",
   "execution_count": 24,
   "metadata": {},
   "outputs": [
    {
     "data": {
      "text/plain": [
       "<matplotlib.legend.Legend at 0x172b9bd2a90>"
      ]
     },
     "execution_count": 24,
     "metadata": {},
     "output_type": "execute_result"
    },
    {
     "data": {
      "image/png": "[encoded data removed]",
      "text/plain": [
       "<Figure size 648x432 with 1 Axes>"
      ]
     },
     "metadata": {
      "needs_background": "light"
     },
     "output_type": "display_data"
    }
   ],
   "source": [
    "def u_fun():\n",
    "    return [1.0, 1.0] # no control\n",
    "\n",
    "# Generate measurement data\n",
    "dt = .0001\n",
    "\n",
    "t_train = np.arange(0, 10, dt)\n",
    "x0_train = [1.0, 1.0]\n",
    "t_train_span = (t_train[0], t_train[-1])\n",
    "\n",
    "u =u_fun()\n",
    "\n",
    "x_train = rk1(simple2D, x0_train, t_train, args=(u, -10.0, -10.0))\n",
    "\n",
    "plt.plot(t_train, x_train)\n",
    "plt.legend([\"x1\", \"x2\"])"
   ]
  },
  {
   "cell_type": "markdown",
   "metadata": {},
   "source": [
    "# Integrate using Runge Kutta order 4"
   ]
  },
  {
   "cell_type": "code",
   "execution_count": null,
   "metadata": {},
   "outputs": [
    {
     "data": {
      "text/plain": [
       "<matplotlib.legend.Legend at 0x21ec9d1aca0>"
      ]
     },
     "execution_count": 12,
     "metadata": {},
     "output_type": "execute_result"
    },
    {
     "data": {
      "image/png": "[encoded data removed]",
      "text/plain": [
       "<Figure size 648x432 with 1 Axes>"
      ]
     },
     "metadata": {
      "needs_background": "light"
     },
     "output_type": "display_data"
    }
   ],
   "source": [
    "def u_fun():\n",
    "    return [1.0, 1.0] # no control\n",
    "\n",
    "# Generate measurement data\n",
    "dt = .0001\n",
    "\n",
    "t_train = np.arange(0, 10, dt)\n",
    "x0_train = [1.0, 1.0]\n",
    "t_train_span = (t_train[0], t_train[-1])\n",
    "\n",
    "u =u_fun()\n",
    "\n",
    "x_train = rk4(simple2D, x0_train, t_train, args=(u, -10.0, -10.0))\n",
    "\n",
    "plt.plot(t_train, x_train)\n",
    "plt.legend([\"x1\", \"x2\"])"
   ]
  },
  {
   "cell_type": "markdown",
   "metadata": {},
   "source": [
    "# Compare accuracy"
   ]
  },
  {
   "cell_type": "code",
   "execution_count": null,
   "metadata": {},
   "outputs": [],
   "source": [
    "def accuracy(dt=101):\n",
    "    t = np.linspace(0, 10, dt)\n",
    "    for method, m in zip(methods, markers):\n",
    "        sol = method(simple2D, x0_train, t, args=(u, -10.0, -10.0))\n",
    "        plt.plot(t, sol[:, 0], label=method.__name__, marker=m)\n",
    "    plt.legend(loc='best')\n",
    "    plt.title(\"Comparison of different ODE integration methods for $n={}$ points\".format(dt))\n",
    "    plt.xlabel(\"$t = [0, 10]$\")\n",
    "    plt.show()"
   ]
  },
  {
   "cell_type": "code",
   "execution_count": null,
   "metadata": {},
   "outputs": [
    {
     "data": {
      "image/png": "[encoded data removed]",
      "text/plain": [
       "<Figure size 432x288 with 1 Axes>"
      ]
     },
     "metadata": {
      "needs_background": "light"
     },
     "output_type": "display_data"
    }
   ],
   "source": [
    "methods = [odeint, rk1, rk4]\n",
    "markers = ['+', 'o', 's']\n",
    "\n",
    "dt = 1000 # for n_time>1000, accuracy is pretty much the same for all methods\n",
    "accuracy(dt)"
   ]
  },
  {
   "cell_type": "markdown",
   "metadata": {},
   "source": [
    "# Compare speed"
   ]
  },
  {
   "cell_type": "code",
   "execution_count": null,
   "metadata": {},
   "outputs": [],
   "source": [
    "def speed(n=101):\n",
    "    t = np.linspace(0, 10, dt)\n",
    "    for method in methods:\n",
    "        print(\"Time of solving this ODE for {} points with {} method...\".format(n, method.__name__))\n",
    "        %timeit sol = method(simple2D, x0_train, t, args=(u, -10.0, -10.0))"
   ]
  },
  {
   "cell_type": "code",
   "execution_count": null,
   "metadata": {},
   "outputs": [
    {
     "name": "stdout",
     "output_type": "stream",
     "text": [
      "Time of solving this ODE for 1000 points with odeint method...\n",
      "465 µs ± 2.98 µs per loop (mean ± std. dev. of 7 runs, 1,000 loops each)\n",
      "Time of solving this ODE for 1000 points with rk1 method...\n",
      "3.89 ms ± 18.6 µs per loop (mean ± std. dev. of 7 runs, 100 loops each)\n",
      "Time of solving this ODE for 1000 points with rk4 method...\n",
      "18.7 ms ± 169 µs per loop (mean ± std. dev. of 7 runs, 100 loops each)\n"
     ]
    }
   ],
   "source": [
    "methods = [odeint, rk1, rk4]\n",
    "markers = ['+', 'o', 's']\n",
    "\n",
    "dt = 1000 \n",
    "speed(dt)"
   ]
  },
  {
   "cell_type": "markdown",
   "metadata": {},
   "source": [
    "# Conclusion\n",
    "`odeint` from scipy is the 1000 times faster than Runge Kutta methods for all time discretization `dt`\n",
    "\n",
    "In terms of accuracy, `odeint` and Runge Kutta methods perfom fairly similar. "
   ]
  }
 ],
 "metadata": {
  "interpreter": {
   "hash": "5080e62e581194305bea1ab6c0205c7f26f064615acb161a66176eb2704813ae"
  },
  "kernelspec": {
   "display_name": "Python 3.9.12 ('HJ_Koopman')",
   "language": "python",
   "name": "python3"
  },
  "language_info": {
   "codemirror_mode": {
    "name": "ipython",
    "version": 3
   },
   "file_extension": ".py",
   "mimetype": "text/x-python",
   "name": "python",
   "nbconvert_exporter": "python",
   "pygments_lexer": "ipython3",
   "version": "3.9.12"
  },
  "orig_nbformat": 4
 },
 "nbformat": 4,
 "nbformat_minor": 2
}
